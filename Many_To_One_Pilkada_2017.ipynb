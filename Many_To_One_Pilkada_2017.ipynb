{
  "nbformat": 4,
  "nbformat_minor": 0,
  "metadata": {
    "colab": {
      "provenance": []
    },
    "kernelspec": {
      "name": "python3",
      "display_name": "Python 3"
    },
    "language_info": {
      "name": "python"
    }
  },
  "cells": [
    {
      "cell_type": "code",
      "execution_count": 13,
      "metadata": {
        "id": "LZ6SkWdSdroA"
      },
      "outputs": [],
      "source": []
    },
    {
      "cell_type": "markdown",
      "source": [
        "# **Tugas 2 Deep Learning**\n",
        "\n",
        "Proyek ini bertujuan untuk melakukan analisis sentimen biner (positif dan negatif) pada teks berbahasa Indonesia. Fokus utamanya adalah membandingkan performa dua arsitektur Recurrent Neural Network (RNN) yang berbeda, yaitu **SimpleRNN** dan **Long Short-Term Memory (LSTM)**.\n",
        "\n",
        "Untuk meningkatkan kualitas dan kecepatan pelatihan, model akan memanfaatkan *pre-trained word embedding* dari **FastText (cc.id.300.vec)** yang sudah memiliki pemahaman semantik kata-kata dalam bahasa Indonesia. Arsitektur yang digunakan adalah **Many-to-One**, di mana sekuens kata-kata dari sebuah kalimat akan dipetakan ke satu output tunggal yang merepresentasikan sentimennya.\n",
        "\n",
        "Proyek ini mencakup beberapa tahapan utama:\n",
        "1.  **Setup Lingkungan**: Mengunduh pre-trained embedding FastText dan menginstal semua library yang diperlukan.\n",
        "2.  **Pemuatan dan Pra-pemrosesan Data**: Mengambil dataset sentimen dari repositori publik, membersihkan teks, melakukan tokenisasi, dan padding.\n",
        "3.  **Pembangunan Model**: Merancang arsitektur untuk SimpleRNN dan LSTM yang menggunakan embedding layer non-trainable dari FastText.\n",
        "4.  **Pelatihan dan Evaluasi**: Melatih kedua model pada dataset yang sama dan membandingkan hasilnya melalui metrik klasifikasi serta visualisasi loss dan accuracy."
      ],
      "metadata": {
        "id": "3m4BxELBRRg7"
      }
    },
    {
      "cell_type": "markdown",
      "source": [
        "## **Install & Import Libraries**\n",
        "## 1. Setup Lingkungan dan Unduh Word Embedding\n",
        "\n",
        "Langkah pertama dalam proyek ini adalah mempersiapkan lingkungan kerja. Ini mencakup instalasi library esensial seperti `TensorFlow` untuk membangun model deep learning dan `Sastrawi` untuk pemrosesan teks bahasa Indonesia.\n",
        "\n",
        "Bagian paling krusial di tahap ini adalah mengunduh **pre-trained word embedding dari FastText (`cc.id.300.vec.gz`)**. File ini berisi vektor 300 dimensi untuk jutaan kata dalam bahasa Indonesia. Dengan menggunakan embedding ini, model kita tidak perlu belajar representasi kata dari awal, melainkan langsung memanfaatkan pengetahuan semantik yang sudah ada. Proses ini secara signifikan dapat meningkatkan performa, terutama pada dataset yang tidak terlalu besar.\n",
        "\n",
        "Kode di bawah ini dirancang untuk efisiensi: ia akan memeriksa apakah file embedding sudah ada sebelum mengunduh. Setelah diunduh, file arsip `.gz` akan diekstrak dan kemudian dihapus untuk menghemat ruang penyimpanan."
      ],
      "metadata": {
        "id": "uXnAlU8gQK5b"
      }
    },
    {
      "cell_type": "code",
      "source": [
        "import requests\n",
        "import gzip\n",
        "import shutil\n",
        "import os\n",
        "\n",
        "# URL dan nama file\n",
        "url = \"https://dl.fbaipublicfiles.com/fasttext/vectors-crawl/cc.id.300.vec.gz\"\n",
        "gz_filename = \"cc.id.300.vec.gz\"\n",
        "vec_filename = \"cc.id.300.vec\"\n",
        "\n",
        "# Fungsi untuk menampilkan progress bar\n",
        "def download_with_progress(url, filename):\n",
        "    with requests.get(url, stream=True) as r:\n",
        "        r.raise_for_status()\n",
        "        total_size = int(r.headers.get('content-length', 0))\n",
        "        block_size = 8192\n",
        "        with open(filename, 'wb') as f:\n",
        "            from tqdm.notebook import tqdm\n",
        "            with tqdm(total=total_size, unit='iB', unit_scale=True, desc=filename) as pbar:\n",
        "                for chunk in r.iter_content(chunk_size=block_size):\n",
        "                    pbar.update(len(chunk))\n",
        "                    f.write(chunk)\n",
        "    return total_size\n",
        "\n",
        "try:\n",
        "    # Cek apakah file final sudah ada\n",
        "    if os.path.exists(vec_filename):\n",
        "        print(f\"✅ File '{vec_filename}' sudah ada. Tidak perlu mengunduh lagi.\")\n",
        "    else:\n",
        "        # --- Langkah 1: Mengunduh file ---\n",
        "        print(f\"📥 Mengunduh file dari {url}...\")\n",
        "        if not os.path.exists(gz_filename):\n",
        "            download_with_progress(url, gz_filename)\n",
        "            print(f\"✅ File '{gz_filename}' berhasil diunduh.\")\n",
        "        else:\n",
        "            print(f\"File '{gz_filename}' sudah ada. Melewati proses unduh.\")\n",
        "\n",
        "        # --- Langkah 2: Mengekstrak file .gz ---\n",
        "        print(f\"⚙️ Mengekstrak '{gz_filename}'... (Proses ini mungkin memakan waktu beberapa menit)\")\n",
        "        with gzip.open(gz_filename, 'rb') as f_in:\n",
        "            with open(vec_filename, 'wb') as f_out:\n",
        "                shutil.copyfileobj(f_in, f_out)\n",
        "        print(f\"✅ Ekstraksi selesai. File '{vec_filename}' telah dibuat.\")\n",
        "\n",
        "        # --- Langkah 3: Hapus file .gz untuk menghemat ruang ---\n",
        "        os.remove(gz_filename)\n",
        "        print(f\"🗑️ File '{gz_filename}' telah dihapus untuk menghemat ruang.\")\n",
        "\n",
        "except Exception as e:\n",
        "    print(f\"❌ Terjadi kesalahan: {e}\")"
      ],
      "metadata": {
        "colab": {
          "base_uri": "https://localhost:8080/"
        },
        "id": "V-K14VGDiFlg",
        "outputId": "aa86d7f3-2279-436c-b331-e2fb4f19441e"
      },
      "execution_count": 14,
      "outputs": [
        {
          "output_type": "stream",
          "name": "stdout",
          "text": [
            "✅ File 'cc.id.300.vec' sudah ada. Tidak perlu mengunduh lagi.\n"
          ]
        }
      ]
    },
    {
      "cell_type": "code",
      "source": [
        "!pip install numpy pandas scikit-learn nltk matplotlib seaborn\n",
        "!pip install tensorflow==2.19.0"
      ],
      "metadata": {
        "colab": {
          "base_uri": "https://localhost:8080/"
        },
        "id": "rsE9s4L-I7Ra",
        "outputId": "fca02998-1d70-47e2-ea6e-8a35f790a76f",
        "collapsed": true
      },
      "execution_count": 15,
      "outputs": [
        {
          "output_type": "stream",
          "name": "stdout",
          "text": [
            "Requirement already satisfied: numpy in /usr/local/lib/python3.12/dist-packages (2.0.2)\n",
            "Requirement already satisfied: pandas in /usr/local/lib/python3.12/dist-packages (2.2.2)\n",
            "Requirement already satisfied: scikit-learn in /usr/local/lib/python3.12/dist-packages (1.6.1)\n",
            "Requirement already satisfied: nltk in /usr/local/lib/python3.12/dist-packages (3.9.1)\n",
            "Requirement already satisfied: matplotlib in /usr/local/lib/python3.12/dist-packages (3.10.0)\n",
            "Requirement already satisfied: seaborn in /usr/local/lib/python3.12/dist-packages (0.13.2)\n",
            "Requirement already satisfied: python-dateutil>=2.8.2 in /usr/local/lib/python3.12/dist-packages (from pandas) (2.9.0.post0)\n",
            "Requirement already satisfied: pytz>=2020.1 in /usr/local/lib/python3.12/dist-packages (from pandas) (2025.2)\n",
            "Requirement already satisfied: tzdata>=2022.7 in /usr/local/lib/python3.12/dist-packages (from pandas) (2025.2)\n",
            "Requirement already satisfied: scipy>=1.6.0 in /usr/local/lib/python3.12/dist-packages (from scikit-learn) (1.16.2)\n",
            "Requirement already satisfied: joblib>=1.2.0 in /usr/local/lib/python3.12/dist-packages (from scikit-learn) (1.5.2)\n",
            "Requirement already satisfied: threadpoolctl>=3.1.0 in /usr/local/lib/python3.12/dist-packages (from scikit-learn) (3.6.0)\n",
            "Requirement already satisfied: click in /usr/local/lib/python3.12/dist-packages (from nltk) (8.3.0)\n",
            "Requirement already satisfied: regex>=2021.8.3 in /usr/local/lib/python3.12/dist-packages (from nltk) (2024.11.6)\n",
            "Requirement already satisfied: tqdm in /usr/local/lib/python3.12/dist-packages (from nltk) (4.67.1)\n",
            "Requirement already satisfied: contourpy>=1.0.1 in /usr/local/lib/python3.12/dist-packages (from matplotlib) (1.3.3)\n",
            "Requirement already satisfied: cycler>=0.10 in /usr/local/lib/python3.12/dist-packages (from matplotlib) (0.12.1)\n",
            "Requirement already satisfied: fonttools>=4.22.0 in /usr/local/lib/python3.12/dist-packages (from matplotlib) (4.60.1)\n",
            "Requirement already satisfied: kiwisolver>=1.3.1 in /usr/local/lib/python3.12/dist-packages (from matplotlib) (1.4.9)\n",
            "Requirement already satisfied: packaging>=20.0 in /usr/local/lib/python3.12/dist-packages (from matplotlib) (25.0)\n",
            "Requirement already satisfied: pillow>=8 in /usr/local/lib/python3.12/dist-packages (from matplotlib) (11.3.0)\n",
            "Requirement already satisfied: pyparsing>=2.3.1 in /usr/local/lib/python3.12/dist-packages (from matplotlib) (3.2.5)\n",
            "Requirement already satisfied: six>=1.5 in /usr/local/lib/python3.12/dist-packages (from python-dateutil>=2.8.2->pandas) (1.17.0)\n",
            "Requirement already satisfied: tensorflow==2.19.0 in /usr/local/lib/python3.12/dist-packages (2.19.0)\n",
            "Requirement already satisfied: absl-py>=1.0.0 in /usr/local/lib/python3.12/dist-packages (from tensorflow==2.19.0) (1.4.0)\n",
            "Requirement already satisfied: astunparse>=1.6.0 in /usr/local/lib/python3.12/dist-packages (from tensorflow==2.19.0) (1.6.3)\n",
            "Requirement already satisfied: flatbuffers>=24.3.25 in /usr/local/lib/python3.12/dist-packages (from tensorflow==2.19.0) (25.9.23)\n",
            "Requirement already satisfied: gast!=0.5.0,!=0.5.1,!=0.5.2,>=0.2.1 in /usr/local/lib/python3.12/dist-packages (from tensorflow==2.19.0) (0.6.0)\n",
            "Requirement already satisfied: google-pasta>=0.1.1 in /usr/local/lib/python3.12/dist-packages (from tensorflow==2.19.0) (0.2.0)\n",
            "Requirement already satisfied: libclang>=13.0.0 in /usr/local/lib/python3.12/dist-packages (from tensorflow==2.19.0) (18.1.1)\n",
            "Requirement already satisfied: opt-einsum>=2.3.2 in /usr/local/lib/python3.12/dist-packages (from tensorflow==2.19.0) (3.4.0)\n",
            "Requirement already satisfied: packaging in /usr/local/lib/python3.12/dist-packages (from tensorflow==2.19.0) (25.0)\n",
            "Requirement already satisfied: protobuf!=4.21.0,!=4.21.1,!=4.21.2,!=4.21.3,!=4.21.4,!=4.21.5,<6.0.0dev,>=3.20.3 in /usr/local/lib/python3.12/dist-packages (from tensorflow==2.19.0) (5.29.5)\n",
            "Requirement already satisfied: requests<3,>=2.21.0 in /usr/local/lib/python3.12/dist-packages (from tensorflow==2.19.0) (2.32.4)\n",
            "Requirement already satisfied: setuptools in /usr/local/lib/python3.12/dist-packages (from tensorflow==2.19.0) (75.2.0)\n",
            "Requirement already satisfied: six>=1.12.0 in /usr/local/lib/python3.12/dist-packages (from tensorflow==2.19.0) (1.17.0)\n",
            "Requirement already satisfied: termcolor>=1.1.0 in /usr/local/lib/python3.12/dist-packages (from tensorflow==2.19.0) (3.1.0)\n",
            "Requirement already satisfied: typing-extensions>=3.6.6 in /usr/local/lib/python3.12/dist-packages (from tensorflow==2.19.0) (4.15.0)\n",
            "Requirement already satisfied: wrapt>=1.11.0 in /usr/local/lib/python3.12/dist-packages (from tensorflow==2.19.0) (1.17.3)\n",
            "Requirement already satisfied: grpcio<2.0,>=1.24.3 in /usr/local/lib/python3.12/dist-packages (from tensorflow==2.19.0) (1.75.1)\n",
            "Requirement already satisfied: tensorboard~=2.19.0 in /usr/local/lib/python3.12/dist-packages (from tensorflow==2.19.0) (2.19.0)\n",
            "Requirement already satisfied: keras>=3.5.0 in /usr/local/lib/python3.12/dist-packages (from tensorflow==2.19.0) (3.10.0)\n",
            "Requirement already satisfied: numpy<2.2.0,>=1.26.0 in /usr/local/lib/python3.12/dist-packages (from tensorflow==2.19.0) (2.0.2)\n",
            "Requirement already satisfied: h5py>=3.11.0 in /usr/local/lib/python3.12/dist-packages (from tensorflow==2.19.0) (3.14.0)\n",
            "Requirement already satisfied: ml-dtypes<1.0.0,>=0.5.1 in /usr/local/lib/python3.12/dist-packages (from tensorflow==2.19.0) (0.5.3)\n",
            "Requirement already satisfied: wheel<1.0,>=0.23.0 in /usr/local/lib/python3.12/dist-packages (from astunparse>=1.6.0->tensorflow==2.19.0) (0.45.1)\n",
            "Requirement already satisfied: rich in /usr/local/lib/python3.12/dist-packages (from keras>=3.5.0->tensorflow==2.19.0) (13.9.4)\n",
            "Requirement already satisfied: namex in /usr/local/lib/python3.12/dist-packages (from keras>=3.5.0->tensorflow==2.19.0) (0.1.0)\n",
            "Requirement already satisfied: optree in /usr/local/lib/python3.12/dist-packages (from keras>=3.5.0->tensorflow==2.19.0) (0.17.0)\n",
            "Requirement already satisfied: charset_normalizer<4,>=2 in /usr/local/lib/python3.12/dist-packages (from requests<3,>=2.21.0->tensorflow==2.19.0) (3.4.3)\n",
            "Requirement already satisfied: idna<4,>=2.5 in /usr/local/lib/python3.12/dist-packages (from requests<3,>=2.21.0->tensorflow==2.19.0) (3.10)\n",
            "Requirement already satisfied: urllib3<3,>=1.21.1 in /usr/local/lib/python3.12/dist-packages (from requests<3,>=2.21.0->tensorflow==2.19.0) (2.5.0)\n",
            "Requirement already satisfied: certifi>=2017.4.17 in /usr/local/lib/python3.12/dist-packages (from requests<3,>=2.21.0->tensorflow==2.19.0) (2025.10.5)\n",
            "Requirement already satisfied: markdown>=2.6.8 in /usr/local/lib/python3.12/dist-packages (from tensorboard~=2.19.0->tensorflow==2.19.0) (3.9)\n",
            "Requirement already satisfied: tensorboard-data-server<0.8.0,>=0.7.0 in /usr/local/lib/python3.12/dist-packages (from tensorboard~=2.19.0->tensorflow==2.19.0) (0.7.2)\n",
            "Requirement already satisfied: werkzeug>=1.0.1 in /usr/local/lib/python3.12/dist-packages (from tensorboard~=2.19.0->tensorflow==2.19.0) (3.1.3)\n",
            "Requirement already satisfied: MarkupSafe>=2.1.1 in /usr/local/lib/python3.12/dist-packages (from werkzeug>=1.0.1->tensorboard~=2.19.0->tensorflow==2.19.0) (3.0.3)\n",
            "Requirement already satisfied: markdown-it-py>=2.2.0 in /usr/local/lib/python3.12/dist-packages (from rich->keras>=3.5.0->tensorflow==2.19.0) (4.0.0)\n",
            "Requirement already satisfied: pygments<3.0.0,>=2.13.0 in /usr/local/lib/python3.12/dist-packages (from rich->keras>=3.5.0->tensorflow==2.19.0) (2.19.2)\n",
            "Requirement already satisfied: mdurl~=0.1 in /usr/local/lib/python3.12/dist-packages (from markdown-it-py>=2.2.0->rich->keras>=3.5.0->tensorflow==2.19.0) (0.1.2)\n"
          ]
        }
      ]
    },
    {
      "cell_type": "code",
      "metadata": {
        "colab": {
          "base_uri": "https://localhost:8080/"
        },
        "id": "40efd22d",
        "outputId": "132b37d5-412c-4af5-e781-9a773560e010"
      },
      "source": [
        "!pip install Sastrawi"
      ],
      "execution_count": 16,
      "outputs": [
        {
          "output_type": "stream",
          "name": "stdout",
          "text": [
            "Requirement already satisfied: Sastrawi in /usr/local/lib/python3.12/dist-packages (1.0.1)\n"
          ]
        }
      ]
    },
    {
      "cell_type": "code",
      "execution_count": 17,
      "metadata": {
        "id": "ZrGnyZM4IwUE"
      },
      "outputs": [],
      "source": [
        "import json\n",
        "import numpy as np\n",
        "import pandas as pd\n",
        "import matplotlib.pyplot as plt\n",
        "import seaborn as sns\n",
        "from sklearn.model_selection import train_test_split\n",
        "from sklearn.metrics import classification_report, confusion_matrix, accuracy_score\n",
        "import tensorflow as tf # Import tensorflow with alias tf\n",
        "from tensorflow.keras.preprocessing.text import Tokenizer\n",
        "from tensorflow.keras.utils import pad_sequences\n",
        "from tensorflow.keras.models import Sequential\n",
        "from tensorflow.keras.layers import Embedding, SimpleRNN, LSTM, Dense, Dropout, Bidirectional, BatchNormalization # Import BatchNormalization\n",
        "from tensorflow.keras.optimizers import Adam, RMSprop, AdamW # Import RMSprop and AdamW\n",
        "from tensorflow.keras.callbacks import EarlyStopping, ReduceLROnPlateau"
      ]
    },
    {
      "cell_type": "markdown",
      "source": [
        "## **Clone Dan Load Sentiment Dataset**\n",
        "## 2. Pemuatan dan Pra-pemrosesan Dataset Sentimen\n",
        "\n",
        "### A. Pemuatan dan Penggabungan Data\n",
        "\n",
        "Dataset yang digunakan untuk melatih model sentimen ini berasal dari repositori publik di GitHub yang berisi kumpulan data sentimen berbahasa Indonesia.\n",
        "**Dataset Pilkada DKI 2017**: Berisi tweet terkait sentimen publik terhadap pasangan calon.\n",
        "\n",
        "Dataset analisis sentimen dikumpulkan dari situs jejaring sosial Twitter terkait dengan pelaksanaan Pemilihan Gubernur DKI Jakarta Tahun 2017 sejumlah 900 dokumen tweet dari 3 pasangan calon yaitu Agus-Sylvi, Ahok-Djarot, & Anies-Sandi. Dataset memiliki 2 kelas sentimen yaitu positive dan negative"
      ],
      "metadata": {
        "id": "N89mGLPmQVjG"
      }
    },
    {
      "cell_type": "code",
      "source": [
        "import os\n",
        "import pandas as pd\n",
        "\n",
        "# Clone repo jika belum ada\n",
        "if not os.path.exists('Dataset-Sentimen-Analisis-Bahasa-Indonesia'):\n",
        "    !git clone https://github.com/rizalespe/Dataset-Sentimen-Analisis-Bahasa-Indonesia.git\n",
        "else:\n",
        "    print(\"✅ Repository sudah ada, skip clone.\")\n",
        "\n",
        "# Dataset Pilkada\n",
        "csv_pilkada = 'Dataset-Sentimen-Analisis-Bahasa-Indonesia/dataset_tweet_sentiment_pilkada_DKI_2017.csv'\n",
        "try:\n",
        "    df1 = pd.read_csv(csv_pilkada, encoding='utf-8')\n",
        "except:\n",
        "    df1 = pd.read_csv(csv_pilkada, encoding='latin1')\n",
        "\n",
        "df1 = df1.dropna(subset=['Text Tweet', 'Sentiment'])\n",
        "df1['Sentiment'] = df1['Sentiment'].str.lower().str.strip()\n",
        "df1 = df1[['Sentiment', 'Text Tweet']]  # Ambil kolom yang diperlukan\n",
        "\n",
        "\n",
        "print(f\"✅ Dataset : {df1.shape[0]} baris\")\n",
        "print(df1['Sentiment'].value_counts())\n",
        "print(\"\\n🔎 Sample:\")\n",
        "df1.head(10)\n"
      ],
      "metadata": {
        "colab": {
          "base_uri": "https://localhost:8080/",
          "height": 501
        },
        "id": "g2Nj5pzXFIZk",
        "outputId": "ff9c84c8-23aa-47b7-e870-d6f29ee8c080"
      },
      "execution_count": 18,
      "outputs": [
        {
          "output_type": "stream",
          "name": "stdout",
          "text": [
            "✅ Repository sudah ada, skip clone.\n",
            "✅ Dataset : 900 baris\n",
            "Sentiment\n",
            "negative    450\n",
            "positive    450\n",
            "Name: count, dtype: int64\n",
            "\n",
            "🔎 Sample:\n"
          ]
        },
        {
          "output_type": "execute_result",
          "data": {
            "text/plain": [
              "  Sentiment                                         Text Tweet\n",
              "0  negative  Banyak akun kloning seolah2 pendukung #agussil...\n",
              "1  negative  #agussilvy bicara apa kasihan yaa...lap itu ai...\n",
              "2  negative  Kalau aku sih gak nunggu hasil akhir QC tp lag...\n",
              "3  negative  Kasian oh kasian dengan peluru 1milyar untuk t...\n",
              "4  negative  Maaf ya pendukung #AgusSilvy..hayo dukung #Ani...\n",
              "5  negative  aneh deh lebay masa ini di sangkut pautkan sam...\n",
              "6  negative  Kepada Allah SWT kami ucapkan rasa syukur dan ...\n",
              "7  negative  Terima Kasih teruntuk pendukung #AHY #SYLVI ka...\n",
              "8  negative  Trima Kasih atas KeIstiqomahan Relawan #AHY @A...\n",
              "9  negative                    Mengenang pidato kekalahan #ahy"
            ],
            "text/html": [
              "\n",
              "  <div id=\"df-fc25a101-2380-489f-a76f-ddc1c2815ea3\" class=\"colab-df-container\">\n",
              "    <div>\n",
              "<style scoped>\n",
              "    .dataframe tbody tr th:only-of-type {\n",
              "        vertical-align: middle;\n",
              "    }\n",
              "\n",
              "    .dataframe tbody tr th {\n",
              "        vertical-align: top;\n",
              "    }\n",
              "\n",
              "    .dataframe thead th {\n",
              "        text-align: right;\n",
              "    }\n",
              "</style>\n",
              "<table border=\"1\" class=\"dataframe\">\n",
              "  <thead>\n",
              "    <tr style=\"text-align: right;\">\n",
              "      <th></th>\n",
              "      <th>Sentiment</th>\n",
              "      <th>Text Tweet</th>\n",
              "    </tr>\n",
              "  </thead>\n",
              "  <tbody>\n",
              "    <tr>\n",
              "      <th>0</th>\n",
              "      <td>negative</td>\n",
              "      <td>Banyak akun kloning seolah2 pendukung #agussil...</td>\n",
              "    </tr>\n",
              "    <tr>\n",
              "      <th>1</th>\n",
              "      <td>negative</td>\n",
              "      <td>#agussilvy bicara apa kasihan yaa...lap itu ai...</td>\n",
              "    </tr>\n",
              "    <tr>\n",
              "      <th>2</th>\n",
              "      <td>negative</td>\n",
              "      <td>Kalau aku sih gak nunggu hasil akhir QC tp lag...</td>\n",
              "    </tr>\n",
              "    <tr>\n",
              "      <th>3</th>\n",
              "      <td>negative</td>\n",
              "      <td>Kasian oh kasian dengan peluru 1milyar untuk t...</td>\n",
              "    </tr>\n",
              "    <tr>\n",
              "      <th>4</th>\n",
              "      <td>negative</td>\n",
              "      <td>Maaf ya pendukung #AgusSilvy..hayo dukung #Ani...</td>\n",
              "    </tr>\n",
              "    <tr>\n",
              "      <th>5</th>\n",
              "      <td>negative</td>\n",
              "      <td>aneh deh lebay masa ini di sangkut pautkan sam...</td>\n",
              "    </tr>\n",
              "    <tr>\n",
              "      <th>6</th>\n",
              "      <td>negative</td>\n",
              "      <td>Kepada Allah SWT kami ucapkan rasa syukur dan ...</td>\n",
              "    </tr>\n",
              "    <tr>\n",
              "      <th>7</th>\n",
              "      <td>negative</td>\n",
              "      <td>Terima Kasih teruntuk pendukung #AHY #SYLVI ka...</td>\n",
              "    </tr>\n",
              "    <tr>\n",
              "      <th>8</th>\n",
              "      <td>negative</td>\n",
              "      <td>Trima Kasih atas KeIstiqomahan Relawan #AHY @A...</td>\n",
              "    </tr>\n",
              "    <tr>\n",
              "      <th>9</th>\n",
              "      <td>negative</td>\n",
              "      <td>Mengenang pidato kekalahan #ahy</td>\n",
              "    </tr>\n",
              "  </tbody>\n",
              "</table>\n",
              "</div>\n",
              "    <div class=\"colab-df-buttons\">\n",
              "\n",
              "  <div class=\"colab-df-container\">\n",
              "    <button class=\"colab-df-convert\" onclick=\"convertToInteractive('df-fc25a101-2380-489f-a76f-ddc1c2815ea3')\"\n",
              "            title=\"Convert this dataframe to an interactive table.\"\n",
              "            style=\"display:none;\">\n",
              "\n",
              "  <svg xmlns=\"http://www.w3.org/2000/svg\" height=\"24px\" viewBox=\"0 -960 960 960\">\n",
              "    <path d=\"M120-120v-720h720v720H120Zm60-500h600v-160H180v160Zm220 220h160v-160H400v160Zm0 220h160v-160H400v160ZM180-400h160v-160H180v160Zm440 0h160v-160H620v160ZM180-180h160v-160H180v160Zm440 0h160v-160H620v160Z\"/>\n",
              "  </svg>\n",
              "    </button>\n",
              "\n",
              "  <style>\n",
              "    .colab-df-container {\n",
              "      display:flex;\n",
              "      gap: 12px;\n",
              "    }\n",
              "\n",
              "    .colab-df-convert {\n",
              "      background-color: #E8F0FE;\n",
              "      border: none;\n",
              "      border-radius: 50%;\n",
              "      cursor: pointer;\n",
              "      display: none;\n",
              "      fill: #1967D2;\n",
              "      height: 32px;\n",
              "      padding: 0 0 0 0;\n",
              "      width: 32px;\n",
              "    }\n",
              "\n",
              "    .colab-df-convert:hover {\n",
              "      background-color: #E2EBFA;\n",
              "      box-shadow: 0px 1px 2px rgba(60, 64, 67, 0.3), 0px 1px 3px 1px rgba(60, 64, 67, 0.15);\n",
              "      fill: #174EA6;\n",
              "    }\n",
              "\n",
              "    .colab-df-buttons div {\n",
              "      margin-bottom: 4px;\n",
              "    }\n",
              "\n",
              "    [theme=dark] .colab-df-convert {\n",
              "      background-color: #3B4455;\n",
              "      fill: #D2E3FC;\n",
              "    }\n",
              "\n",
              "    [theme=dark] .colab-df-convert:hover {\n",
              "      background-color: #434B5C;\n",
              "      box-shadow: 0px 1px 3px 1px rgba(0, 0, 0, 0.15);\n",
              "      filter: drop-shadow(0px 1px 2px rgba(0, 0, 0, 0.3));\n",
              "      fill: #FFFFFF;\n",
              "    }\n",
              "  </style>\n",
              "\n",
              "    <script>\n",
              "      const buttonEl =\n",
              "        document.querySelector('#df-fc25a101-2380-489f-a76f-ddc1c2815ea3 button.colab-df-convert');\n",
              "      buttonEl.style.display =\n",
              "        google.colab.kernel.accessAllowed ? 'block' : 'none';\n",
              "\n",
              "      async function convertToInteractive(key) {\n",
              "        const element = document.querySelector('#df-fc25a101-2380-489f-a76f-ddc1c2815ea3');\n",
              "        const dataTable =\n",
              "          await google.colab.kernel.invokeFunction('convertToInteractive',\n",
              "                                                    [key], {});\n",
              "        if (!dataTable) return;\n",
              "\n",
              "        const docLinkHtml = 'Like what you see? Visit the ' +\n",
              "          '<a target=\"_blank\" href=https://colab.research.google.com/notebooks/data_table.ipynb>data table notebook</a>'\n",
              "          + ' to learn more about interactive tables.';\n",
              "        element.innerHTML = '';\n",
              "        dataTable['output_type'] = 'display_data';\n",
              "        await google.colab.output.renderOutput(dataTable, element);\n",
              "        const docLink = document.createElement('div');\n",
              "        docLink.innerHTML = docLinkHtml;\n",
              "        element.appendChild(docLink);\n",
              "      }\n",
              "    </script>\n",
              "  </div>\n",
              "\n",
              "\n",
              "    <div id=\"df-2198a835-0c4f-4727-a780-396494d31b97\">\n",
              "      <button class=\"colab-df-quickchart\" onclick=\"quickchart('df-2198a835-0c4f-4727-a780-396494d31b97')\"\n",
              "                title=\"Suggest charts\"\n",
              "                style=\"display:none;\">\n",
              "\n",
              "<svg xmlns=\"http://www.w3.org/2000/svg\" height=\"24px\"viewBox=\"0 0 24 24\"\n",
              "     width=\"24px\">\n",
              "    <g>\n",
              "        <path d=\"M19 3H5c-1.1 0-2 .9-2 2v14c0 1.1.9 2 2 2h14c1.1 0 2-.9 2-2V5c0-1.1-.9-2-2-2zM9 17H7v-7h2v7zm4 0h-2V7h2v10zm4 0h-2v-4h2v4z\"/>\n",
              "    </g>\n",
              "</svg>\n",
              "      </button>\n",
              "\n",
              "<style>\n",
              "  .colab-df-quickchart {\n",
              "      --bg-color: #E8F0FE;\n",
              "      --fill-color: #1967D2;\n",
              "      --hover-bg-color: #E2EBFA;\n",
              "      --hover-fill-color: #174EA6;\n",
              "      --disabled-fill-color: #AAA;\n",
              "      --disabled-bg-color: #DDD;\n",
              "  }\n",
              "\n",
              "  [theme=dark] .colab-df-quickchart {\n",
              "      --bg-color: #3B4455;\n",
              "      --fill-color: #D2E3FC;\n",
              "      --hover-bg-color: #434B5C;\n",
              "      --hover-fill-color: #FFFFFF;\n",
              "      --disabled-bg-color: #3B4455;\n",
              "      --disabled-fill-color: #666;\n",
              "  }\n",
              "\n",
              "  .colab-df-quickchart {\n",
              "    background-color: var(--bg-color);\n",
              "    border: none;\n",
              "    border-radius: 50%;\n",
              "    cursor: pointer;\n",
              "    display: none;\n",
              "    fill: var(--fill-color);\n",
              "    height: 32px;\n",
              "    padding: 0;\n",
              "    width: 32px;\n",
              "  }\n",
              "\n",
              "  .colab-df-quickchart:hover {\n",
              "    background-color: var(--hover-bg-color);\n",
              "    box-shadow: 0 1px 2px rgba(60, 64, 67, 0.3), 0 1px 3px 1px rgba(60, 64, 67, 0.15);\n",
              "    fill: var(--button-hover-fill-color);\n",
              "  }\n",
              "\n",
              "  .colab-df-quickchart-complete:disabled,\n",
              "  .colab-df-quickchart-complete:disabled:hover {\n",
              "    background-color: var(--disabled-bg-color);\n",
              "    fill: var(--disabled-fill-color);\n",
              "    box-shadow: none;\n",
              "  }\n",
              "\n",
              "  .colab-df-spinner {\n",
              "    border: 2px solid var(--fill-color);\n",
              "    border-color: transparent;\n",
              "    border-bottom-color: var(--fill-color);\n",
              "    animation:\n",
              "      spin 1s steps(1) infinite;\n",
              "  }\n",
              "\n",
              "  @keyframes spin {\n",
              "    0% {\n",
              "      border-color: transparent;\n",
              "      border-bottom-color: var(--fill-color);\n",
              "      border-left-color: var(--fill-color);\n",
              "    }\n",
              "    20% {\n",
              "      border-color: transparent;\n",
              "      border-left-color: var(--fill-color);\n",
              "      border-top-color: var(--fill-color);\n",
              "    }\n",
              "    30% {\n",
              "      border-color: transparent;\n",
              "      border-left-color: var(--fill-color);\n",
              "      border-top-color: var(--fill-color);\n",
              "      border-right-color: var(--fill-color);\n",
              "    }\n",
              "    40% {\n",
              "      border-color: transparent;\n",
              "      border-right-color: var(--fill-color);\n",
              "      border-top-color: var(--fill-color);\n",
              "    }\n",
              "    60% {\n",
              "      border-color: transparent;\n",
              "      border-right-color: var(--fill-color);\n",
              "    }\n",
              "    80% {\n",
              "      border-color: transparent;\n",
              "      border-right-color: var(--fill-color);\n",
              "      border-bottom-color: var(--fill-color);\n",
              "    }\n",
              "    90% {\n",
              "      border-color: transparent;\n",
              "      border-bottom-color: var(--fill-color);\n",
              "    }\n",
              "  }\n",
              "</style>\n",
              "\n",
              "      <script>\n",
              "        async function quickchart(key) {\n",
              "          const quickchartButtonEl =\n",
              "            document.querySelector('#' + key + ' button');\n",
              "          quickchartButtonEl.disabled = true;  // To prevent multiple clicks.\n",
              "          quickchartButtonEl.classList.add('colab-df-spinner');\n",
              "          try {\n",
              "            const charts = await google.colab.kernel.invokeFunction(\n",
              "                'suggestCharts', [key], {});\n",
              "          } catch (error) {\n",
              "            console.error('Error during call to suggestCharts:', error);\n",
              "          }\n",
              "          quickchartButtonEl.classList.remove('colab-df-spinner');\n",
              "          quickchartButtonEl.classList.add('colab-df-quickchart-complete');\n",
              "        }\n",
              "        (() => {\n",
              "          let quickchartButtonEl =\n",
              "            document.querySelector('#df-2198a835-0c4f-4727-a780-396494d31b97 button');\n",
              "          quickchartButtonEl.style.display =\n",
              "            google.colab.kernel.accessAllowed ? 'block' : 'none';\n",
              "        })();\n",
              "      </script>\n",
              "    </div>\n",
              "\n",
              "    </div>\n",
              "  </div>\n"
            ],
            "application/vnd.google.colaboratory.intrinsic+json": {
              "type": "dataframe",
              "variable_name": "df1",
              "summary": "{\n  \"name\": \"df1\",\n  \"rows\": 900,\n  \"fields\": [\n    {\n      \"column\": \"Sentiment\",\n      \"properties\": {\n        \"dtype\": \"category\",\n        \"num_unique_values\": 2,\n        \"samples\": [\n          \"positive\",\n          \"negative\"\n        ],\n        \"semantic_type\": \"\",\n        \"description\": \"\"\n      }\n    },\n    {\n      \"column\": \"Text Tweet\",\n      \"properties\": {\n        \"dtype\": \"string\",\n        \"num_unique_values\": 898,\n        \"samples\": [\n          \"Turun pangkat saja @ahok, Jakarta tidak butuh penista agama seperti kamu iya kamu\",\n          \"Perayaan kemenangan #AniesSandi, tidak pakai papan kembang, tapi pakai kambiang \\u00e2\\u20ac\\u201d merasa bersyukur di Abunawas... http://fb.me/89nIV8t2r\"\n        ],\n        \"semantic_type\": \"\",\n        \"description\": \"\"\n      }\n    }\n  ]\n}"
            }
          },
          "metadata": {},
          "execution_count": 18
        }
      ]
    },
    {
      "cell_type": "markdown",
      "source": [
        "### **Preprocess Sentiment Data**"
      ],
      "metadata": {
        "id": "fk9bY0TcFHD6"
      }
    },
    {
      "cell_type": "code",
      "source": [
        "import re\n",
        "from Sastrawi.Stemmer.StemmerFactory import StemmerFactory\n",
        "from nltk.corpus import stopwords\n",
        "\n",
        "# Pastikan stopwords NLTK sudah diunduh\n",
        "import nltk\n",
        "nltk.download('stopwords')\n",
        "\n",
        "stop_words = set(stopwords.words('indonesian'))\n",
        "factory = StemmerFactory()\n",
        "stemmer = factory.create_stemmer()\n",
        "\n",
        "def clean_text(text):\n",
        "    # Lowercase\n",
        "    text = text.lower()\n",
        "    # Hapus URL\n",
        "    text = re.sub(r'http\\S+|www\\S+|https\\S+', '', text)\n",
        "    # Hapus mention dan hashtag (tapi simpan isi kata hashtag)\n",
        "    text = re.sub(r'@\\w+', '', text)\n",
        "    text = re.sub(r'#(\\w+)', r'\\1', text)\n",
        "    # Hapus angka berlebihan\n",
        "    text = re.sub(r'\\d+', '', text)\n",
        "    # Hapus tanda baca dan karakter non-alfabet\n",
        "    text = re.sub(r'[^a-zA-Z\\s]', '', text)\n",
        "    # Hapus spasi berlebih\n",
        "    text = re.sub(r'\\s+', ' ', text).strip()\n",
        "\n",
        "\n",
        "    return text # Added return statement"
      ],
      "metadata": {
        "colab": {
          "base_uri": "https://localhost:8080/"
        },
        "id": "dOHcp9LKHSu9",
        "outputId": "a6975ec9-7e2c-4f92-c26d-2ae0e225621f"
      },
      "execution_count": 19,
      "outputs": [
        {
          "output_type": "stream",
          "name": "stderr",
          "text": [
            "[nltk_data] Downloading package stopwords to /root/nltk_data...\n",
            "[nltk_data]   Package stopwords is already up-to-date!\n"
          ]
        }
      ]
    },
    {
      "cell_type": "code",
      "source": [
        "print(\"\\n📊 Preprocessing Sentiment Data...\")\n",
        "\n",
        "print(\"\\n📊 Preprocessing Sentiment Data...\")\n",
        "\n",
        "# --- 1️⃣ Ambil teks dan label dari DATA GABUNGAN ---\n",
        "texts_sentimen = df1['Text Tweet'].tolist()  # <-- PERBAIKAN\n",
        "labels_sentimen = df1['Sentiment'].tolist() # <-- PERBAIKAN\n",
        "label_column = 'Sentiment'\n",
        "\n",
        "# --- 2️⃣ Bersihkan teks (kode ini sudah benar) ---\n",
        "print(\"🧼 Cleaning texts...\")\n",
        "texts_sentimen = [clean_text(t) for t in texts_sentimen]\n",
        "print(\"✅ Contoh hasil bersih:\")\n",
        "print(texts_sentimen[:5])\n",
        "\n",
        "# --- 3️⃣ Cek label unik dan mapping dari DATA GABUNGAN ---\n",
        "unique_labels = sorted(df1[label_column].str.lower().str.strip().unique()) # <-- PERBAIKAN\n",
        "print(f\"Label unik ditemukan: {unique_labels}\")\n",
        "\n",
        "# Sisa kode di bawah ini sudah benar dan tidak perlu diubah\n",
        "label_order = ['negative', 'positive']\n",
        "label_to_id = {label: idx for idx, label in enumerate(label_order) if label in unique_labels}\n",
        "id_to_label = {idx: label for label, idx in label_to_id.items()}\n",
        "\n",
        "y_sentimen = np.array([label_to_id[label] for label in labels_sentimen if label in label_to_id])\n",
        "num_classes = len(label_to_id)\n",
        "print(f\"Label mapping: {label_to_id}\")\n",
        "print(f\"Number of classes: {num_classes}\")\n",
        "\n",
        "# --- 4️⃣ Split dulu sebelum fit tokenizer\n",
        "X_train_texts, X_test_texts, y_train_s, y_test_s = train_test_split(\n",
        "    texts_sentimen, y_sentimen, test_size=0.2, random_state=42, stratify=y_sentimen\n",
        ")\n",
        "\n",
        "# --- 5️⃣ Fit tokenizer only on the training data\n",
        "tokenizer_sentimen = Tokenizer(oov_token=\"<OOV>\", lower=True)\n",
        "tokenizer_sentimen.fit_on_texts(X_train_texts)\n",
        "\n",
        "vocab_size_sentimen = len(tokenizer_sentimen.word_index) + 1\n",
        "\n",
        "# --- 6️⃣ Convert text to sequence\n",
        "X_train_seq = tokenizer_sentimen.texts_to_sequences(X_train_texts)\n",
        "X_test_seq = tokenizer_sentimen.texts_to_sequences(X_test_texts)\n",
        "\n",
        "# --- 7️⃣ Calculate sequence length from train data only\n",
        "seq_lengths_train = [len(seq) for seq in X_train_seq]\n",
        "max_len_sentimen = int(np.percentile(seq_lengths_train, 95))  # 95th percentile from TRAIN\n",
        "\n",
        "# --- 8️⃣ Padding\n",
        "X_train_s = pad_sequences(X_train_seq, maxlen=max_len_sentimen, padding='post', truncating='post')\n",
        "X_test_s = pad_sequences(X_test_seq, maxlen=max_len_sentimen, padding='post', truncating='post')\n",
        "\n",
        "print(f\"Vocab size: {vocab_size_sentimen}\")\n",
        "print(f\"Max sequence length (95th percentile): {max_len_sentimen}\")\n",
        "print(f\"X_train shape: {X_train_s.shape}, X_test shape: {X_test_s.shape}\")"
      ],
      "metadata": {
        "colab": {
          "base_uri": "https://localhost:8080/"
        },
        "id": "-_ykJNGSNUrz",
        "outputId": "c3978eaa-4d22-4811-c338-778fdd9d33fd"
      },
      "execution_count": 20,
      "outputs": [
        {
          "output_type": "stream",
          "name": "stdout",
          "text": [
            "\n",
            "📊 Preprocessing Sentiment Data...\n",
            "\n",
            "📊 Preprocessing Sentiment Data...\n",
            "🧼 Cleaning texts...\n",
            "✅ Contoh hasil bersih:\n",
            "['banyak akun kloning seolah pendukung agussilvy mulai menyerang paslon aniessandi dengan opini dan argumen pmbenaranjangan terkecoh', 'agussilvy bicara apa kasihan yaalap itu air matanya wkwkwkwk', 'kalau aku sih gak nunggu hasil akhir qc tp lagi nunggu motif cuitan pak kayak apa pasca agussilvy nyungsep', 'kasian oh kasian dengan peluru milyar untuk tiap rw agussilvy tidak mempan menangin pilkada quickcount pilkadaserentak', 'maaf ya pendukung agussilvyhayo dukung aniessandi diputaran']\n",
            "Label unik ditemukan: ['negative', 'positive']\n",
            "Label mapping: {'negative': 0, 'positive': 1}\n",
            "Number of classes: 2\n",
            "Vocab size: 2951\n",
            "Max sequence length (95th percentile): 22\n",
            "X_train shape: (720, 22), X_test shape: (180, 22)\n"
          ]
        }
      ]
    },
    {
      "cell_type": "markdown",
      "source": [
        "### **Build RNN dan LSTM Classifier (Many-to-One)**\n",
        "## 3. Pembangunan dan Pelatihan Model RNN & LSTM\n",
        "\n",
        "Tahap ini adalah inti dari proyek, di mana dua model sekuensial—SimpleRNN dan LSTM—akan dibangun, dikompilasi, dan dilatih.\n",
        "\n",
        "### A. Persiapan Embedding Layer (FastText)\n",
        "\n",
        "Sebelum model dibangun, kita perlu membuat \"jembatan\" antara vokabulari dataset kita dengan vektor dari FastText. Ini dilakukan dengan menciptakan sebuah **embedding matrix**. Matriks ini akan memiliki dimensi `(ukuran_vokabulari, 300)`, di mana setiap barisnya sesuai dengan indeks kata dalam tokenizer dan berisi vektor 300 dimensi kata tersebut dari FastText.\n",
        "\n",
        "Matriks ini kemudian akan dimuat sebagai *weights* awal untuk layer `Embedding` di kedua model, dan layer tersebut akan diatur sebagai `trainable=False`. Artinya, model tidak akan memperbarui bobot embedding selama pelatihan, melainkan sepenuhnya mengandalkan pemahaman kata yang sudah ada dari FastText.\n",
        "\n",
        "### B. Arsitektur Model\n",
        "\n",
        "Kedua model dibangun dengan arsitektur *Many-to-One* yang serupa untuk memastikan perbandingan yang adil. Perbedaan utamanya hanya terletak pada jenis layer rekuren yang digunakan.\n",
        "\n",
        "-   **Simple RNN (`build_rnn_classifier_balanced`)**:\n",
        "    -   **Embedding Layer**: Menggunakan `embedding_matrix` dari FastText dan bersifat *non-trainable*.\n",
        "    -   **Bidirectional SimpleRNN Layer**: Lapisan RNN dua arah dengan 32 unit untuk memproses sekuens dari depan ke belakang dan sebaliknya, membantu menangkap konteks dengan lebih baik.\n",
        "    -   **Regularization**: Menggunakan `Dropout` (0.5) untuk mencegah overfitting.\n",
        "    -   **Output Layer**: `Dense` layer dengan aktivasi `sigmoid` untuk klasifikasi biner.\n",
        "\n",
        "-   **LSTM (`build_lstm_classifier_improved`)**:\n",
        "    -   Struktur serupa, tetapi menggunakan `Bidirectional LSTM Layer` dengan 64 unit. LSTM dirancang untuk mengatasi masalah *vanishing gradient* yang sering terjadi pada SimpleRNN, sehingga diharapkan dapat menangkap dependensi jangka panjang dalam teks dengan lebih baik.\n",
        "\n",
        "### C. Proses Pelatihan\n",
        "\n",
        "Kedua model dilatih dengan parameter yang sama (`epochs=25`, `batch_size=32`) dan menggunakan optimizer `Adam`. Selain itu, dua *callback* penting diimplementasikan:\n",
        "-   **`EarlyStopping`**: Menghentikan pelatihan jika tidak ada peningkatan pada *validation loss* setelah beberapa epoch, untuk efisiensi dan pencegahan overfitting.\n",
        "-   **`ReduceLROnPlateau`**: Mengurangi *learning rate* secara otomatis jika model mengalami stagnasi, membantu model menemukan titik optimal yang lebih baik."
      ],
      "metadata": {
        "id": "2cPdAr-7QvtS"
      }
    },
    {
      "cell_type": "code",
      "source": [
        "# ======================================================================\n",
        "# LANGKAH 1: SIAPKAN SEMUA \"BAHAN\" DULU\n",
        "# ======================================================================\n",
        "\n",
        "# --- 1A. Muat Pre-trained Word Vectors dari File ---\n",
        "print(\"📖 Memuat pre-trained word vectors dari file cc.id.300.vec...\")\n",
        "embeddings_index = {}\n",
        "try:\n",
        "    with open('cc.id.300.vec', 'r', encoding='utf-8') as f:\n",
        "        for line in f:\n",
        "            values = line.split()\n",
        "            word = values[0]\n",
        "            coefs = np.asarray(values[1:], dtype='float32')\n",
        "            embeddings_index[word] = coefs\n",
        "except FileNotFoundError:\n",
        "    print(\"❌ ERROR: File 'cc.id.300.vec' tidak ditemukan.\")\n",
        "    raise\n",
        "\n",
        "print(f'✅ Ditemukan {len(embeddings_index)} word vectors.')\n",
        "\n",
        "# --- 1B. Buat Embedding Matrix Berdasarkan Kosakata Anda ---\n",
        "print(\"🛠️  Mempersiapkan embedding matrix...\")\n",
        "embedding_dim = 300 # Dimensi dari FastText\n",
        "# Pastikan tokenizer_sentimen sudah di-fit pada data training Anda\n",
        "embedding_matrix = np.zeros((vocab_size_sentimen, embedding_dim))\n",
        "for word, i in tokenizer_sentimen.word_index.items():\n",
        "    embedding_vector = embeddings_index.get(word)\n",
        "    if embedding_vector is not None:\n",
        "        embedding_matrix[i] = embedding_vector\n",
        "\n",
        "# ======================================================================\n",
        "# LANGKAH 2: DEFINISIKAN DAN BUAT MODEL (SETELAH BAHAN SIAP)\n",
        "# ======================================================================\n",
        "\n",
        "# --- 2A. Definisi Model RNN yang Seimbang ---\n",
        "def build_rnn_classifier_balanced(vocab_size, embedding_dim, max_len, embedding_matrix):\n",
        "    model = Sequential([\n",
        "        Embedding(\n",
        "            input_dim=vocab_size, output_dim=embedding_dim,\n",
        "            weights=[embedding_matrix], input_length=max_len, trainable=False\n",
        "        ),\n",
        "        # Hapus Bidirectional untuk model yang lebih sederhana dan tidak mudah overfit\n",
        "        Bidirectional(SimpleRNN(32, recurrent_dropout=0.2, kernel_regularizer=tf.keras.regularizers.l2(0.01))),\n",
        "        Dropout(0.5),\n",
        "        Dense(16, activation='relu'),\n",
        "        Dense(1, activation='sigmoid')\n",
        "    ], name=\"RNN_Classifier_Balanced\")\n",
        "    model.compile(loss='binary_crossentropy', optimizer=Adam(learning_rate=0.0005), metrics=['accuracy'])\n",
        "    return model\n",
        "\n",
        "# --- 2B. Definisi Model LSTM ---\n",
        "def build_lstm_classifier_improved(vocab_size, embedding_dim, max_len, embedding_matrix):\n",
        "    model = Sequential([\n",
        "        Embedding(\n",
        "            input_dim=vocab_size, output_dim=embedding_dim,\n",
        "            weights=[embedding_matrix], input_length=max_len, trainable=False\n",
        "        ),\n",
        "        Bidirectional(LSTM(64)),\n",
        "        Dropout(0.5),\n",
        "        Dense(16, activation='relu'),\n",
        "        Dense(1, activation='sigmoid')\n",
        "    ], name=\"LSTM_Classifier_Improved\")\n",
        "    model.compile(loss='binary_crossentropy', optimizer=Adam(learning_rate=0.0005), metrics=['accuracy'])\n",
        "    return model\n",
        "\n",
        "# --- 2C. Buat Instance dari Setiap Model ---\n",
        "print(\"\\n🏗️ Membuat instance model...\")\n",
        "rnn_model_to_train = build_rnn_classifier_balanced(\n",
        "    vocab_size_sentimen, embedding_dim, max_len_sentimen, embedding_matrix\n",
        ")\n",
        "lstm_model_to_train = build_lstm_classifier_improved(\n",
        "    vocab_size_sentimen, embedding_dim, max_len_sentimen, embedding_matrix\n",
        ")\n",
        "\n",
        "# 'None' adalah placeholder untuk ukuran batch (bisa berubah-ubah)\n",
        "rnn_model_to_train.build(input_shape=(None, max_len_sentimen))\n",
        "lstm_model_to_train.build(input_shape=(None, max_len_sentimen))\n",
        "\n",
        "print(\"\\n--- Summary RNN ---\")\n",
        "rnn_model_to_train.summary()\n",
        "print(\"\\n--- Summary LSTM ---\")\n",
        "lstm_model_to_train.summary()\n",
        "\n",
        "# ======================================================================\n",
        "# LANGKAH 3: LATIH MODEL YANG BENAR\n",
        "# ======================================================================\n",
        "\n",
        "# Definisikan callbacks sekali saja untuk digunakan keduanya\n",
        "early_stop = EarlyStopping(monitor='val_loss', patience=3, restore_best_weights=True, verbose=1)\n",
        "reduce_lr = ReduceLROnPlateau(monitor='val_loss', factor=0.5, patience=2, min_lr=1e-5, verbose=1)\n",
        "\n",
        "print(\"\\n🚀 Training RNN Classifier (Balanced)...\")\n",
        "history_rnn_cls = rnn_model_to_train.fit( # <-- Latih variabel yang benar\n",
        "    X_train_s, y_train_s,\n",
        "    epochs=25, batch_size=32, validation_data=(X_test_s, y_test_s),\n",
        "    callbacks=[early_stop, reduce_lr], verbose=1\n",
        ")\n",
        "print(\"✅ RNN Classifier training completed!\")\n",
        "\n",
        "print(\"\\n🚀 Training LSTM Classifier...\")\n",
        "history_lstm_cls = lstm_model_to_train.fit( # <-- Latih variabel yang benar\n",
        "    X_train_s, y_train_s,\n",
        "    epochs=25, batch_size=32, validation_data=(X_test_s, y_test_s),\n",
        "    callbacks=[early_stop, reduce_lr], verbose=1\n",
        ")\n",
        "print(\"✅ LSTM Classifier training completed!\")\n",
        "\n",
        "# (Kode evaluasi dan plotting Anda setelah ini bisa tetap sama,\n",
        "#  pastikan menggunakan variabel rnn_model_to_train dan lstm_model_to_train saat prediksi)"
      ],
      "metadata": {
        "colab": {
          "base_uri": "https://localhost:8080/",
          "height": 1000
        },
        "id": "zPj7RvxBtzX0",
        "outputId": "e118489c-1427-4e13-819c-0097150cedb7"
      },
      "execution_count": 21,
      "outputs": [
        {
          "output_type": "stream",
          "name": "stdout",
          "text": [
            "📖 Memuat pre-trained word vectors dari file cc.id.300.vec...\n",
            "✅ Ditemukan 2000000 word vectors.\n",
            "🛠️  Mempersiapkan embedding matrix...\n",
            "\n",
            "🏗️ Membuat instance model...\n"
          ]
        },
        {
          "output_type": "stream",
          "name": "stderr",
          "text": [
            "/usr/local/lib/python3.12/dist-packages/keras/src/layers/core/embedding.py:97: UserWarning: Argument `input_length` is deprecated. Just remove it.\n",
            "  warnings.warn(\n"
          ]
        },
        {
          "output_type": "stream",
          "name": "stdout",
          "text": [
            "\n",
            "--- Summary RNN ---\n"
          ]
        },
        {
          "output_type": "display_data",
          "data": {
            "text/plain": [
              "\u001b[1mModel: \"RNN_Classifier_Balanced\"\u001b[0m\n"
            ],
            "text/html": [
              "<pre style=\"white-space:pre;overflow-x:auto;line-height:normal;font-family:Menlo,'DejaVu Sans Mono',consolas,'Courier New',monospace\"><span style=\"font-weight: bold\">Model: \"RNN_Classifier_Balanced\"</span>\n",
              "</pre>\n"
            ]
          },
          "metadata": {}
        },
        {
          "output_type": "display_data",
          "data": {
            "text/plain": [
              "┏━━━━━━━━━━━━━━━━━━━━━━━━━━━━━━━━━┳━━━━━━━━━━━━━━━━━━━━━━━━┳━━━━━━━━━━━━━━━┓\n",
              "┃\u001b[1m \u001b[0m\u001b[1mLayer (type)                   \u001b[0m\u001b[1m \u001b[0m┃\u001b[1m \u001b[0m\u001b[1mOutput Shape          \u001b[0m\u001b[1m \u001b[0m┃\u001b[1m \u001b[0m\u001b[1m      Param #\u001b[0m\u001b[1m \u001b[0m┃\n",
              "┡━━━━━━━━━━━━━━━━━━━━━━━━━━━━━━━━━╇━━━━━━━━━━━━━━━━━━━━━━━━╇━━━━━━━━━━━━━━━┩\n",
              "│ embedding_2 (\u001b[38;5;33mEmbedding\u001b[0m)         │ (\u001b[38;5;45mNone\u001b[0m, \u001b[38;5;34m22\u001b[0m, \u001b[38;5;34m300\u001b[0m)        │       \u001b[38;5;34m885,300\u001b[0m │\n",
              "├─────────────────────────────────┼────────────────────────┼───────────────┤\n",
              "│ bidirectional_2 (\u001b[38;5;33mBidirectional\u001b[0m) │ (\u001b[38;5;45mNone\u001b[0m, \u001b[38;5;34m64\u001b[0m)             │        \u001b[38;5;34m21,312\u001b[0m │\n",
              "├─────────────────────────────────┼────────────────────────┼───────────────┤\n",
              "│ dropout_2 (\u001b[38;5;33mDropout\u001b[0m)             │ (\u001b[38;5;45mNone\u001b[0m, \u001b[38;5;34m64\u001b[0m)             │             \u001b[38;5;34m0\u001b[0m │\n",
              "├─────────────────────────────────┼────────────────────────┼───────────────┤\n",
              "│ dense_4 (\u001b[38;5;33mDense\u001b[0m)                 │ (\u001b[38;5;45mNone\u001b[0m, \u001b[38;5;34m16\u001b[0m)             │         \u001b[38;5;34m1,040\u001b[0m │\n",
              "├─────────────────────────────────┼────────────────────────┼───────────────┤\n",
              "│ dense_5 (\u001b[38;5;33mDense\u001b[0m)                 │ (\u001b[38;5;45mNone\u001b[0m, \u001b[38;5;34m1\u001b[0m)              │            \u001b[38;5;34m17\u001b[0m │\n",
              "└─────────────────────────────────┴────────────────────────┴───────────────┘\n"
            ],
            "text/html": [
              "<pre style=\"white-space:pre;overflow-x:auto;line-height:normal;font-family:Menlo,'DejaVu Sans Mono',consolas,'Courier New',monospace\">┏━━━━━━━━━━━━━━━━━━━━━━━━━━━━━━━━━┳━━━━━━━━━━━━━━━━━━━━━━━━┳━━━━━━━━━━━━━━━┓\n",
              "┃<span style=\"font-weight: bold\"> Layer (type)                    </span>┃<span style=\"font-weight: bold\"> Output Shape           </span>┃<span style=\"font-weight: bold\">       Param # </span>┃\n",
              "┡━━━━━━━━━━━━━━━━━━━━━━━━━━━━━━━━━╇━━━━━━━━━━━━━━━━━━━━━━━━╇━━━━━━━━━━━━━━━┩\n",
              "│ embedding_2 (<span style=\"color: #0087ff; text-decoration-color: #0087ff\">Embedding</span>)         │ (<span style=\"color: #00d7ff; text-decoration-color: #00d7ff\">None</span>, <span style=\"color: #00af00; text-decoration-color: #00af00\">22</span>, <span style=\"color: #00af00; text-decoration-color: #00af00\">300</span>)        │       <span style=\"color: #00af00; text-decoration-color: #00af00\">885,300</span> │\n",
              "├─────────────────────────────────┼────────────────────────┼───────────────┤\n",
              "│ bidirectional_2 (<span style=\"color: #0087ff; text-decoration-color: #0087ff\">Bidirectional</span>) │ (<span style=\"color: #00d7ff; text-decoration-color: #00d7ff\">None</span>, <span style=\"color: #00af00; text-decoration-color: #00af00\">64</span>)             │        <span style=\"color: #00af00; text-decoration-color: #00af00\">21,312</span> │\n",
              "├─────────────────────────────────┼────────────────────────┼───────────────┤\n",
              "│ dropout_2 (<span style=\"color: #0087ff; text-decoration-color: #0087ff\">Dropout</span>)             │ (<span style=\"color: #00d7ff; text-decoration-color: #00d7ff\">None</span>, <span style=\"color: #00af00; text-decoration-color: #00af00\">64</span>)             │             <span style=\"color: #00af00; text-decoration-color: #00af00\">0</span> │\n",
              "├─────────────────────────────────┼────────────────────────┼───────────────┤\n",
              "│ dense_4 (<span style=\"color: #0087ff; text-decoration-color: #0087ff\">Dense</span>)                 │ (<span style=\"color: #00d7ff; text-decoration-color: #00d7ff\">None</span>, <span style=\"color: #00af00; text-decoration-color: #00af00\">16</span>)             │         <span style=\"color: #00af00; text-decoration-color: #00af00\">1,040</span> │\n",
              "├─────────────────────────────────┼────────────────────────┼───────────────┤\n",
              "│ dense_5 (<span style=\"color: #0087ff; text-decoration-color: #0087ff\">Dense</span>)                 │ (<span style=\"color: #00d7ff; text-decoration-color: #00d7ff\">None</span>, <span style=\"color: #00af00; text-decoration-color: #00af00\">1</span>)              │            <span style=\"color: #00af00; text-decoration-color: #00af00\">17</span> │\n",
              "└─────────────────────────────────┴────────────────────────┴───────────────┘\n",
              "</pre>\n"
            ]
          },
          "metadata": {}
        },
        {
          "output_type": "display_data",
          "data": {
            "text/plain": [
              "\u001b[1m Total params: \u001b[0m\u001b[38;5;34m907,669\u001b[0m (3.46 MB)\n"
            ],
            "text/html": [
              "<pre style=\"white-space:pre;overflow-x:auto;line-height:normal;font-family:Menlo,'DejaVu Sans Mono',consolas,'Courier New',monospace\"><span style=\"font-weight: bold\"> Total params: </span><span style=\"color: #00af00; text-decoration-color: #00af00\">907,669</span> (3.46 MB)\n",
              "</pre>\n"
            ]
          },
          "metadata": {}
        },
        {
          "output_type": "display_data",
          "data": {
            "text/plain": [
              "\u001b[1m Trainable params: \u001b[0m\u001b[38;5;34m22,369\u001b[0m (87.38 KB)\n"
            ],
            "text/html": [
              "<pre style=\"white-space:pre;overflow-x:auto;line-height:normal;font-family:Menlo,'DejaVu Sans Mono',consolas,'Courier New',monospace\"><span style=\"font-weight: bold\"> Trainable params: </span><span style=\"color: #00af00; text-decoration-color: #00af00\">22,369</span> (87.38 KB)\n",
              "</pre>\n"
            ]
          },
          "metadata": {}
        },
        {
          "output_type": "display_data",
          "data": {
            "text/plain": [
              "\u001b[1m Non-trainable params: \u001b[0m\u001b[38;5;34m885,300\u001b[0m (3.38 MB)\n"
            ],
            "text/html": [
              "<pre style=\"white-space:pre;overflow-x:auto;line-height:normal;font-family:Menlo,'DejaVu Sans Mono',consolas,'Courier New',monospace\"><span style=\"font-weight: bold\"> Non-trainable params: </span><span style=\"color: #00af00; text-decoration-color: #00af00\">885,300</span> (3.38 MB)\n",
              "</pre>\n"
            ]
          },
          "metadata": {}
        },
        {
          "output_type": "stream",
          "name": "stdout",
          "text": [
            "\n",
            "--- Summary LSTM ---\n"
          ]
        },
        {
          "output_type": "display_data",
          "data": {
            "text/plain": [
              "\u001b[1mModel: \"LSTM_Classifier_Improved\"\u001b[0m\n"
            ],
            "text/html": [
              "<pre style=\"white-space:pre;overflow-x:auto;line-height:normal;font-family:Menlo,'DejaVu Sans Mono',consolas,'Courier New',monospace\"><span style=\"font-weight: bold\">Model: \"LSTM_Classifier_Improved\"</span>\n",
              "</pre>\n"
            ]
          },
          "metadata": {}
        },
        {
          "output_type": "display_data",
          "data": {
            "text/plain": [
              "┏━━━━━━━━━━━━━━━━━━━━━━━━━━━━━━━━━┳━━━━━━━━━━━━━━━━━━━━━━━━┳━━━━━━━━━━━━━━━┓\n",
              "┃\u001b[1m \u001b[0m\u001b[1mLayer (type)                   \u001b[0m\u001b[1m \u001b[0m┃\u001b[1m \u001b[0m\u001b[1mOutput Shape          \u001b[0m\u001b[1m \u001b[0m┃\u001b[1m \u001b[0m\u001b[1m      Param #\u001b[0m\u001b[1m \u001b[0m┃\n",
              "┡━━━━━━━━━━━━━━━━━━━━━━━━━━━━━━━━━╇━━━━━━━━━━━━━━━━━━━━━━━━╇━━━━━━━━━━━━━━━┩\n",
              "│ embedding_3 (\u001b[38;5;33mEmbedding\u001b[0m)         │ (\u001b[38;5;45mNone\u001b[0m, \u001b[38;5;34m22\u001b[0m, \u001b[38;5;34m300\u001b[0m)        │       \u001b[38;5;34m885,300\u001b[0m │\n",
              "├─────────────────────────────────┼────────────────────────┼───────────────┤\n",
              "│ bidirectional_3 (\u001b[38;5;33mBidirectional\u001b[0m) │ (\u001b[38;5;45mNone\u001b[0m, \u001b[38;5;34m128\u001b[0m)            │       \u001b[38;5;34m186,880\u001b[0m │\n",
              "├─────────────────────────────────┼────────────────────────┼───────────────┤\n",
              "│ dropout_3 (\u001b[38;5;33mDropout\u001b[0m)             │ (\u001b[38;5;45mNone\u001b[0m, \u001b[38;5;34m128\u001b[0m)            │             \u001b[38;5;34m0\u001b[0m │\n",
              "├─────────────────────────────────┼────────────────────────┼───────────────┤\n",
              "│ dense_6 (\u001b[38;5;33mDense\u001b[0m)                 │ (\u001b[38;5;45mNone\u001b[0m, \u001b[38;5;34m16\u001b[0m)             │         \u001b[38;5;34m2,064\u001b[0m │\n",
              "├─────────────────────────────────┼────────────────────────┼───────────────┤\n",
              "│ dense_7 (\u001b[38;5;33mDense\u001b[0m)                 │ (\u001b[38;5;45mNone\u001b[0m, \u001b[38;5;34m1\u001b[0m)              │            \u001b[38;5;34m17\u001b[0m │\n",
              "└─────────────────────────────────┴────────────────────────┴───────────────┘\n"
            ],
            "text/html": [
              "<pre style=\"white-space:pre;overflow-x:auto;line-height:normal;font-family:Menlo,'DejaVu Sans Mono',consolas,'Courier New',monospace\">┏━━━━━━━━━━━━━━━━━━━━━━━━━━━━━━━━━┳━━━━━━━━━━━━━━━━━━━━━━━━┳━━━━━━━━━━━━━━━┓\n",
              "┃<span style=\"font-weight: bold\"> Layer (type)                    </span>┃<span style=\"font-weight: bold\"> Output Shape           </span>┃<span style=\"font-weight: bold\">       Param # </span>┃\n",
              "┡━━━━━━━━━━━━━━━━━━━━━━━━━━━━━━━━━╇━━━━━━━━━━━━━━━━━━━━━━━━╇━━━━━━━━━━━━━━━┩\n",
              "│ embedding_3 (<span style=\"color: #0087ff; text-decoration-color: #0087ff\">Embedding</span>)         │ (<span style=\"color: #00d7ff; text-decoration-color: #00d7ff\">None</span>, <span style=\"color: #00af00; text-decoration-color: #00af00\">22</span>, <span style=\"color: #00af00; text-decoration-color: #00af00\">300</span>)        │       <span style=\"color: #00af00; text-decoration-color: #00af00\">885,300</span> │\n",
              "├─────────────────────────────────┼────────────────────────┼───────────────┤\n",
              "│ bidirectional_3 (<span style=\"color: #0087ff; text-decoration-color: #0087ff\">Bidirectional</span>) │ (<span style=\"color: #00d7ff; text-decoration-color: #00d7ff\">None</span>, <span style=\"color: #00af00; text-decoration-color: #00af00\">128</span>)            │       <span style=\"color: #00af00; text-decoration-color: #00af00\">186,880</span> │\n",
              "├─────────────────────────────────┼────────────────────────┼───────────────┤\n",
              "│ dropout_3 (<span style=\"color: #0087ff; text-decoration-color: #0087ff\">Dropout</span>)             │ (<span style=\"color: #00d7ff; text-decoration-color: #00d7ff\">None</span>, <span style=\"color: #00af00; text-decoration-color: #00af00\">128</span>)            │             <span style=\"color: #00af00; text-decoration-color: #00af00\">0</span> │\n",
              "├─────────────────────────────────┼────────────────────────┼───────────────┤\n",
              "│ dense_6 (<span style=\"color: #0087ff; text-decoration-color: #0087ff\">Dense</span>)                 │ (<span style=\"color: #00d7ff; text-decoration-color: #00d7ff\">None</span>, <span style=\"color: #00af00; text-decoration-color: #00af00\">16</span>)             │         <span style=\"color: #00af00; text-decoration-color: #00af00\">2,064</span> │\n",
              "├─────────────────────────────────┼────────────────────────┼───────────────┤\n",
              "│ dense_7 (<span style=\"color: #0087ff; text-decoration-color: #0087ff\">Dense</span>)                 │ (<span style=\"color: #00d7ff; text-decoration-color: #00d7ff\">None</span>, <span style=\"color: #00af00; text-decoration-color: #00af00\">1</span>)              │            <span style=\"color: #00af00; text-decoration-color: #00af00\">17</span> │\n",
              "└─────────────────────────────────┴────────────────────────┴───────────────┘\n",
              "</pre>\n"
            ]
          },
          "metadata": {}
        },
        {
          "output_type": "display_data",
          "data": {
            "text/plain": [
              "\u001b[1m Total params: \u001b[0m\u001b[38;5;34m1,074,261\u001b[0m (4.10 MB)\n"
            ],
            "text/html": [
              "<pre style=\"white-space:pre;overflow-x:auto;line-height:normal;font-family:Menlo,'DejaVu Sans Mono',consolas,'Courier New',monospace\"><span style=\"font-weight: bold\"> Total params: </span><span style=\"color: #00af00; text-decoration-color: #00af00\">1,074,261</span> (4.10 MB)\n",
              "</pre>\n"
            ]
          },
          "metadata": {}
        },
        {
          "output_type": "display_data",
          "data": {
            "text/plain": [
              "\u001b[1m Trainable params: \u001b[0m\u001b[38;5;34m188,961\u001b[0m (738.13 KB)\n"
            ],
            "text/html": [
              "<pre style=\"white-space:pre;overflow-x:auto;line-height:normal;font-family:Menlo,'DejaVu Sans Mono',consolas,'Courier New',monospace\"><span style=\"font-weight: bold\"> Trainable params: </span><span style=\"color: #00af00; text-decoration-color: #00af00\">188,961</span> (738.13 KB)\n",
              "</pre>\n"
            ]
          },
          "metadata": {}
        },
        {
          "output_type": "display_data",
          "data": {
            "text/plain": [
              "\u001b[1m Non-trainable params: \u001b[0m\u001b[38;5;34m885,300\u001b[0m (3.38 MB)\n"
            ],
            "text/html": [
              "<pre style=\"white-space:pre;overflow-x:auto;line-height:normal;font-family:Menlo,'DejaVu Sans Mono',consolas,'Courier New',monospace\"><span style=\"font-weight: bold\"> Non-trainable params: </span><span style=\"color: #00af00; text-decoration-color: #00af00\">885,300</span> (3.38 MB)\n",
              "</pre>\n"
            ]
          },
          "metadata": {}
        },
        {
          "output_type": "stream",
          "name": "stdout",
          "text": [
            "\n",
            "🚀 Training RNN Classifier (Balanced)...\n",
            "Epoch 1/25\n",
            "\u001b[1m23/23\u001b[0m \u001b[32m━━━━━━━━━━━━━━━━━━━━\u001b[0m\u001b[37m\u001b[0m \u001b[1m6s\u001b[0m 48ms/step - accuracy: 0.5052 - loss: 1.8559 - val_accuracy: 0.4333 - val_loss: 1.7702 - learning_rate: 5.0000e-04\n",
            "Epoch 2/25\n",
            "\u001b[1m23/23\u001b[0m \u001b[32m━━━━━━━━━━━━━━━━━━━━\u001b[0m\u001b[37m\u001b[0m \u001b[1m0s\u001b[0m 19ms/step - accuracy: 0.5154 - loss: 1.7657 - val_accuracy: 0.4389 - val_loss: 1.6732 - learning_rate: 5.0000e-04\n",
            "Epoch 3/25\n",
            "\u001b[1m23/23\u001b[0m \u001b[32m━━━━━━━━━━━━━━━━━━━━\u001b[0m\u001b[37m\u001b[0m \u001b[1m1s\u001b[0m 19ms/step - accuracy: 0.5073 - loss: 1.6684 - val_accuracy: 0.4722 - val_loss: 1.5851 - learning_rate: 5.0000e-04\n",
            "Epoch 4/25\n",
            "\u001b[1m23/23\u001b[0m \u001b[32m━━━━━━━━━━━━━━━━━━━━\u001b[0m\u001b[37m\u001b[0m \u001b[1m0s\u001b[0m 19ms/step - accuracy: 0.5414 - loss: 1.5644 - val_accuracy: 0.5111 - val_loss: 1.5072 - learning_rate: 5.0000e-04\n",
            "Epoch 5/25\n",
            "\u001b[1m23/23\u001b[0m \u001b[32m━━━━━━━━━━━━━━━━━━━━\u001b[0m\u001b[37m\u001b[0m \u001b[1m0s\u001b[0m 19ms/step - accuracy: 0.5188 - loss: 1.4986 - val_accuracy: 0.5000 - val_loss: 1.4349 - learning_rate: 5.0000e-04\n",
            "Epoch 6/25\n",
            "\u001b[1m23/23\u001b[0m \u001b[32m━━━━━━━━━━━━━━━━━━━━\u001b[0m\u001b[37m\u001b[0m \u001b[1m0s\u001b[0m 19ms/step - accuracy: 0.5126 - loss: 1.4197 - val_accuracy: 0.4833 - val_loss: 1.3700 - learning_rate: 5.0000e-04\n",
            "Epoch 7/25\n",
            "\u001b[1m23/23\u001b[0m \u001b[32m━━━━━━━━━━━━━━━━━━━━\u001b[0m\u001b[37m\u001b[0m \u001b[1m0s\u001b[0m 20ms/step - accuracy: 0.5354 - loss: 1.3468 - val_accuracy: 0.4778 - val_loss: 1.3125 - learning_rate: 5.0000e-04\n",
            "Epoch 8/25\n",
            "\u001b[1m23/23\u001b[0m \u001b[32m━━━━━━━━━━━━━━━━━━━━\u001b[0m\u001b[37m\u001b[0m \u001b[1m1s\u001b[0m 19ms/step - accuracy: 0.5531 - loss: 1.2994 - val_accuracy: 0.5278 - val_loss: 1.2568 - learning_rate: 5.0000e-04\n",
            "Epoch 9/25\n",
            "\u001b[1m23/23\u001b[0m \u001b[32m━━━━━━━━━━━━━━━━━━━━\u001b[0m\u001b[37m\u001b[0m \u001b[1m0s\u001b[0m 20ms/step - accuracy: 0.5814 - loss: 1.2259 - val_accuracy: 0.5000 - val_loss: 1.2085 - learning_rate: 5.0000e-04\n",
            "Epoch 10/25\n",
            "\u001b[1m23/23\u001b[0m \u001b[32m━━━━━━━━━━━━━━━━━━━━\u001b[0m\u001b[37m\u001b[0m \u001b[1m1s\u001b[0m 28ms/step - accuracy: 0.5215 - loss: 1.2029 - val_accuracy: 0.5056 - val_loss: 1.1647 - learning_rate: 5.0000e-04\n",
            "Epoch 11/25\n",
            "\u001b[1m23/23\u001b[0m \u001b[32m━━━━━━━━━━━━━━━━━━━━\u001b[0m\u001b[37m\u001b[0m \u001b[1m1s\u001b[0m 30ms/step - accuracy: 0.6034 - loss: 1.1179 - val_accuracy: 0.5222 - val_loss: 1.1219 - learning_rate: 5.0000e-04\n",
            "Epoch 12/25\n",
            "\u001b[1m23/23\u001b[0m \u001b[32m━━━━━━━━━━━━━━━━━━━━\u001b[0m\u001b[37m\u001b[0m \u001b[1m1s\u001b[0m 35ms/step - accuracy: 0.5990 - loss: 1.1019 - val_accuracy: 0.5500 - val_loss: 1.0765 - learning_rate: 5.0000e-04\n",
            "Epoch 13/25\n",
            "\u001b[1m23/23\u001b[0m \u001b[32m━━━━━━━━━━━━━━━━━━━━\u001b[0m\u001b[37m\u001b[0m \u001b[1m1s\u001b[0m 38ms/step - accuracy: 0.6297 - loss: 1.0336 - val_accuracy: 0.5667 - val_loss: 1.0366 - learning_rate: 5.0000e-04\n",
            "Epoch 14/25\n",
            "\u001b[1m23/23\u001b[0m \u001b[32m━━━━━━━━━━━━━━━━━━━━\u001b[0m\u001b[37m\u001b[0m \u001b[1m1s\u001b[0m 39ms/step - accuracy: 0.6385 - loss: 1.0073 - val_accuracy: 0.6111 - val_loss: 0.9968 - learning_rate: 5.0000e-04\n",
            "Epoch 15/25\n",
            "\u001b[1m23/23\u001b[0m \u001b[32m━━━━━━━━━━━━━━━━━━━━\u001b[0m\u001b[37m\u001b[0m \u001b[1m1s\u001b[0m 36ms/step - accuracy: 0.6721 - loss: 0.9556 - val_accuracy: 0.6889 - val_loss: 0.9510 - learning_rate: 5.0000e-04\n",
            "Epoch 16/25\n",
            "\u001b[1m23/23\u001b[0m \u001b[32m━━━━━━━━━━━━━━━━━━━━\u001b[0m\u001b[37m\u001b[0m \u001b[1m1s\u001b[0m 40ms/step - accuracy: 0.6697 - loss: 0.9422 - val_accuracy: 0.6722 - val_loss: 0.9185 - learning_rate: 5.0000e-04\n",
            "Epoch 17/25\n",
            "\u001b[1m23/23\u001b[0m \u001b[32m━━━━━━━━━━━━━━━━━━━━\u001b[0m\u001b[37m\u001b[0m \u001b[1m1s\u001b[0m 24ms/step - accuracy: 0.6473 - loss: 0.9082 - val_accuracy: 0.6500 - val_loss: 0.8947 - learning_rate: 5.0000e-04\n",
            "Epoch 18/25\n",
            "\u001b[1m23/23\u001b[0m \u001b[32m━━━━━━━━━━━━━━━━━━━━\u001b[0m\u001b[37m\u001b[0m \u001b[1m1s\u001b[0m 20ms/step - accuracy: 0.7175 - loss: 0.8642 - val_accuracy: 0.7111 - val_loss: 0.8422 - learning_rate: 5.0000e-04\n",
            "Epoch 19/25\n",
            "\u001b[1m23/23\u001b[0m \u001b[32m━━━━━━━━━━━━━━━━━━━━\u001b[0m\u001b[37m\u001b[0m \u001b[1m0s\u001b[0m 19ms/step - accuracy: 0.7379 - loss: 0.8279 - val_accuracy: 0.6333 - val_loss: 0.8560 - learning_rate: 5.0000e-04\n",
            "Epoch 20/25\n",
            "\u001b[1m23/23\u001b[0m \u001b[32m━━━━━━━━━━━━━━━━━━━━\u001b[0m\u001b[37m\u001b[0m \u001b[1m1s\u001b[0m 20ms/step - accuracy: 0.7076 - loss: 0.8169 - val_accuracy: 0.7333 - val_loss: 0.8189 - learning_rate: 5.0000e-04\n",
            "Epoch 21/25\n",
            "\u001b[1m23/23\u001b[0m \u001b[32m━━━━━━━━━━━━━━━━━━━━\u001b[0m\u001b[37m\u001b[0m \u001b[1m0s\u001b[0m 19ms/step - accuracy: 0.7042 - loss: 0.8048 - val_accuracy: 0.6778 - val_loss: 0.8028 - learning_rate: 5.0000e-04\n",
            "Epoch 22/25\n",
            "\u001b[1m23/23\u001b[0m \u001b[32m━━━━━━━━━━━━━━━━━━━━\u001b[0m\u001b[37m\u001b[0m \u001b[1m0s\u001b[0m 20ms/step - accuracy: 0.6793 - loss: 0.8073 - val_accuracy: 0.7167 - val_loss: 0.7825 - learning_rate: 5.0000e-04\n",
            "Epoch 23/25\n",
            "\u001b[1m23/23\u001b[0m \u001b[32m━━━━━━━━━━━━━━━━━━━━\u001b[0m\u001b[37m\u001b[0m \u001b[1m0s\u001b[0m 19ms/step - accuracy: 0.7361 - loss: 0.7531 - val_accuracy: 0.7056 - val_loss: 0.7565 - learning_rate: 5.0000e-04\n",
            "Epoch 24/25\n",
            "\u001b[1m23/23\u001b[0m \u001b[32m━━━━━━━━━━━━━━━━━━━━\u001b[0m\u001b[37m\u001b[0m \u001b[1m0s\u001b[0m 20ms/step - accuracy: 0.7492 - loss: 0.7205 - val_accuracy: 0.6889 - val_loss: 0.7535 - learning_rate: 5.0000e-04\n",
            "Epoch 25/25\n",
            "\u001b[1m23/23\u001b[0m \u001b[32m━━━━━━━━━━━━━━━━━━━━\u001b[0m\u001b[37m\u001b[0m \u001b[1m0s\u001b[0m 19ms/step - accuracy: 0.7654 - loss: 0.7196 - val_accuracy: 0.7556 - val_loss: 0.7314 - learning_rate: 5.0000e-04\n",
            "Restoring model weights from the end of the best epoch: 25.\n",
            "✅ RNN Classifier training completed!\n",
            "\n",
            "🚀 Training LSTM Classifier...\n",
            "Epoch 1/25\n",
            "\u001b[1m23/23\u001b[0m \u001b[32m━━━━━━━━━━━━━━━━━━━━\u001b[0m\u001b[37m\u001b[0m \u001b[1m7s\u001b[0m 91ms/step - accuracy: 0.5034 - loss: 0.6916 - val_accuracy: 0.5889 - val_loss: 0.6890 - learning_rate: 5.0000e-04\n",
            "Epoch 2/25\n",
            "\u001b[1m23/23\u001b[0m \u001b[32m━━━━━━━━━━━━━━━━━━━━\u001b[0m\u001b[37m\u001b[0m \u001b[1m2s\u001b[0m 85ms/step - accuracy: 0.6332 - loss: 0.6806 - val_accuracy: 0.6722 - val_loss: 0.6754 - learning_rate: 5.0000e-04\n",
            "Epoch 3/25\n",
            "\u001b[1m23/23\u001b[0m \u001b[32m━━━━━━━━━━━━━━━━━━━━\u001b[0m\u001b[37m\u001b[0m \u001b[1m2s\u001b[0m 96ms/step - accuracy: 0.7061 - loss: 0.6554 - val_accuracy: 0.7333 - val_loss: 0.6122 - learning_rate: 5.0000e-04\n",
            "Epoch 4/25\n",
            "\u001b[1m23/23\u001b[0m \u001b[32m━━━━━━━━━━━━━━━━━━━━\u001b[0m\u001b[37m\u001b[0m \u001b[1m2s\u001b[0m 79ms/step - accuracy: 0.7149 - loss: 0.5958 - val_accuracy: 0.7278 - val_loss: 0.5330 - learning_rate: 5.0000e-04\n",
            "Epoch 5/25\n",
            "\u001b[1m23/23\u001b[0m \u001b[32m━━━━━━━━━━━━━━━━━━━━\u001b[0m\u001b[37m\u001b[0m \u001b[1m1s\u001b[0m 46ms/step - accuracy: 0.8088 - loss: 0.4830 - val_accuracy: 0.7000 - val_loss: 0.5694 - learning_rate: 5.0000e-04\n",
            "Epoch 6/25\n",
            "\u001b[1m23/23\u001b[0m \u001b[32m━━━━━━━━━━━━━━━━━━━━\u001b[0m\u001b[37m\u001b[0m \u001b[1m1s\u001b[0m 46ms/step - accuracy: 0.7785 - loss: 0.4974 - val_accuracy: 0.7500 - val_loss: 0.5127 - learning_rate: 5.0000e-04\n",
            "Epoch 7/25\n",
            "\u001b[1m23/23\u001b[0m \u001b[32m━━━━━━━━━━━━━━━━━━━━\u001b[0m\u001b[37m\u001b[0m \u001b[1m1s\u001b[0m 48ms/step - accuracy: 0.8468 - loss: 0.3871 - val_accuracy: 0.7222 - val_loss: 0.5206 - learning_rate: 5.0000e-04\n",
            "Epoch 8/25\n",
            "\u001b[1m22/23\u001b[0m \u001b[32m━━━━━━━━━━━━━━━━━━━\u001b[0m\u001b[37m━\u001b[0m \u001b[1m0s\u001b[0m 38ms/step - accuracy: 0.8185 - loss: 0.4358\n",
            "Epoch 8: ReduceLROnPlateau reducing learning rate to 0.0002500000118743628.\n",
            "\u001b[1m23/23\u001b[0m \u001b[32m━━━━━━━━━━━━━━━━━━━━\u001b[0m\u001b[37m\u001b[0m \u001b[1m1s\u001b[0m 45ms/step - accuracy: 0.8201 - loss: 0.4340 - val_accuracy: 0.7500 - val_loss: 0.5702 - learning_rate: 5.0000e-04\n",
            "Epoch 9/25\n",
            "\u001b[1m23/23\u001b[0m \u001b[32m━━━━━━━━━━━━━━━━━━━━\u001b[0m\u001b[37m\u001b[0m \u001b[1m1s\u001b[0m 46ms/step - accuracy: 0.8690 - loss: 0.3458 - val_accuracy: 0.7333 - val_loss: 0.5709 - learning_rate: 2.5000e-04\n",
            "Epoch 9: early stopping\n",
            "Restoring model weights from the end of the best epoch: 6.\n",
            "✅ LSTM Classifier training completed!\n"
          ]
        }
      ]
    },
    {
      "cell_type": "markdown",
      "source": [
        "### **Evaluate Classifiers**\n",
        "## 4. Evaluasi dan Perbandingan Hasil\n",
        "\n",
        "Setelah kedua model selesai dilatih, langkah terakhir adalah mengevaluasi performa mereka pada data testing yang belum pernah dilihat sebelumnya. Ini memberikan gambaran objektif tentang seberapa baik masing-masing model dapat menggeneralisasi pengetahuannya.\n",
        "\n",
        "Evaluasi dilakukan melalui beberapa cara:\n",
        "\n",
        "1.  **Laporan Klasifikasi**: `classification_report` dari Scikit-learn akan ditampilkan untuk melihat metrik detail seperti **Precision, Recall, dan F1-Score** untuk setiap kelas sentimen.\n",
        "2.  **Akurasi**: Akurasi keseluruhan pada data testing dihitung untuk perbandingan langsung.\n",
        "3.  **Ringkasan Pelatihan**: Performa terbaik selama fase training dan validasi (akurasi tertinggi dan loss terendah) akan diringkas.\n",
        "4.  **Visualisasi Kurva Pelatihan**: Grafik akan membandingkan kurva *loss* dan *accuracy* dari kedua model selama proses pelatihan. Visualisasi ini sangat berguna untuk menganalisis kecepatan konvergensi, stabilitas training, dan tanda-tanda overfitting pada masing-masing arsitektur.\n",
        "\n",
        "Berdasarkan hasil evaluasi ini, kita dapat menarik kesimpulan model mana yang lebih unggul untuk tugas analisis sentimen pada dataset ini."
      ],
      "metadata": {
        "id": "LaFwsvS_Q54N"
      }
    },
    {
      "cell_type": "code",
      "source": [
        "print(\"\\n\" + \"=\"*70)\n",
        "print(\"EVALUASI KLASIFIKASI SENTIMEN (BINARY)\")\n",
        "print(\"=\"*70)\n",
        "\n",
        "# Predictions - MENGGUNAKAN VARIABEL YANG SUDAH BENAR\n",
        "y_pred_rnn = (rnn_model_to_train.predict(X_test_s, verbose=0) > 0.5).astype(int)\n",
        "y_pred_lstm = (lstm_model_to_train.predict(X_test_s, verbose=0) > 0.5).astype(int)\n",
        "\n",
        "\n",
        "# RNN Results\n",
        "print(\"\\n📊 RNN Classifier Results:\")\n",
        "print(f\"Accuracy: {accuracy_score(y_test_s, y_pred_rnn):.4f}\")\n",
        "print(\"\\nClassification Report:\")\n",
        "print(classification_report(y_test_s, y_pred_rnn, target_names=list(label_to_id.keys())))\n",
        "\n",
        "# LSTM Results\n",
        "print(\"\\n📊 LSTM Classifier Results:\")\n",
        "print(f\"Accuracy: {accuracy_score(y_test_s, y_pred_lstm):.4f}\")\n",
        "print(\"\\nClassification Report:\")\n",
        "print(classification_report(y_test_s, y_pred_lstm, target_names=list(label_to_id.keys())))"
      ],
      "metadata": {
        "id": "hnBa-ZGNOYrv",
        "colab": {
          "base_uri": "https://localhost:8080/"
        },
        "outputId": "e981bb4c-ec70-408d-bed8-80956aa22f0d"
      },
      "execution_count": 22,
      "outputs": [
        {
          "output_type": "stream",
          "name": "stdout",
          "text": [
            "\n",
            "======================================================================\n",
            "EVALUASI KLASIFIKASI SENTIMEN (BINARY)\n",
            "======================================================================\n"
          ]
        },
        {
          "output_type": "stream",
          "name": "stderr",
          "text": [
            "WARNING:tensorflow:5 out of the last 13 calls to <function TensorFlowTrainer.make_predict_function.<locals>.one_step_on_data_distributed at 0x7e01dd6411c0> triggered tf.function retracing. Tracing is expensive and the excessive number of tracings could be due to (1) creating @tf.function repeatedly in a loop, (2) passing tensors with different shapes, (3) passing Python objects instead of tensors. For (1), please define your @tf.function outside of the loop. For (2), @tf.function has reduce_retracing=True option that can avoid unnecessary retracing. For (3), please refer to https://www.tensorflow.org/guide/function#controlling_retracing and https://www.tensorflow.org/api_docs/python/tf/function for  more details.\n",
            "WARNING:tensorflow:5 out of the last 13 calls to <function TensorFlowTrainer.make_predict_function.<locals>.one_step_on_data_distributed at 0x7e01e0ce7100> triggered tf.function retracing. Tracing is expensive and the excessive number of tracings could be due to (1) creating @tf.function repeatedly in a loop, (2) passing tensors with different shapes, (3) passing Python objects instead of tensors. For (1), please define your @tf.function outside of the loop. For (2), @tf.function has reduce_retracing=True option that can avoid unnecessary retracing. For (3), please refer to https://www.tensorflow.org/guide/function#controlling_retracing and https://www.tensorflow.org/api_docs/python/tf/function for  more details.\n"
          ]
        },
        {
          "output_type": "stream",
          "name": "stdout",
          "text": [
            "\n",
            "📊 RNN Classifier Results:\n",
            "Accuracy: 0.7556\n",
            "\n",
            "Classification Report:\n",
            "              precision    recall  f1-score   support\n",
            "\n",
            "    negative       0.85      0.62      0.72        90\n",
            "    positive       0.70      0.89      0.78        90\n",
            "\n",
            "    accuracy                           0.76       180\n",
            "   macro avg       0.78      0.76      0.75       180\n",
            "weighted avg       0.78      0.76      0.75       180\n",
            "\n",
            "\n",
            "📊 LSTM Classifier Results:\n",
            "Accuracy: 0.7500\n",
            "\n",
            "Classification Report:\n",
            "              precision    recall  f1-score   support\n",
            "\n",
            "    negative       0.80      0.67      0.73        90\n",
            "    positive       0.71      0.83      0.77        90\n",
            "\n",
            "    accuracy                           0.75       180\n",
            "   macro avg       0.76      0.75      0.75       180\n",
            "weighted avg       0.76      0.75      0.75       180\n",
            "\n"
          ]
        }
      ]
    },
    {
      "cell_type": "code",
      "source": [
        "\n",
        "\n",
        "# ================================\n",
        "# 📊 RINGKASAN HASIL MODEL\n",
        "# ================================\n",
        "\n",
        "print(\"\\n📘 Ringkasan Simple RNN Classifier\")\n",
        "acc_rnn = history_rnn_cls.history['accuracy']\n",
        "val_acc_rnn = history_rnn_cls.history['val_accuracy']\n",
        "loss_rnn = history_rnn_cls.history['loss']\n",
        "val_loss_rnn = history_rnn_cls.history['val_loss']\n",
        "\n",
        "print(f\"  🔹 Akurasi training tertinggi: {max(acc_rnn):.4f}\")\n",
        "print(f\"  🔹 Akurasi validasi tertinggi: {max(val_acc_rnn):.4f}\")\n",
        "print(f\"  🔹 Loss training terendah: {min(loss_rnn):.4f}\")\n",
        "print(f\"  🔹 Loss validasi terendah: {min(val_loss_rnn):.4f}\")\n",
        "print(\"-\" * 50)\n",
        "\n",
        "print(\"\\n📘 Ringkasan LSTM Classifier\")\n",
        "acc_lstm = history_lstm_cls.history['accuracy']\n",
        "val_acc_lstm = history_lstm_cls.history['val_accuracy']\n",
        "loss_lstm = history_lstm_cls.history['loss']\n",
        "val_loss_lstm = history_lstm_cls.history['val_loss']\n",
        "\n",
        "print(f\"  🔹 Akurasi training tertinggi: {max(acc_lstm):.4f}\")\n",
        "print(f\"  🔹 Akurasi validasi tertinggi: {max(val_acc_lstm):.4f}\")\n",
        "print(f\"  🔹 Loss training terendah: {min(loss_lstm):.4f}\")\n",
        "print(f\"  🔹 Loss validasi terendah: {min(val_loss_lstm):.4f}\")\n",
        "print(\"-\" * 50)\n",
        "\n",
        "# ================================\n",
        "# 🏆 MODEL TERBAIK\n",
        "# ================================\n",
        "\n",
        "if max(val_acc_rnn) > max(val_acc_lstm):\n",
        "    print(f\"🏆 Model terbaik: Simple RNN (Val Accuracy = {max(val_acc_rnn):.4f})\")\n",
        "else:\n",
        "    print(f\"🏆 Model terbaik: LSTM (Val Accuracy = {max(val_acc_lstm):.4f})\")\n"
      ],
      "metadata": {
        "id": "B59TclWNrfIm",
        "colab": {
          "base_uri": "https://localhost:8080/"
        },
        "outputId": "1de65113-6e7f-4a85-cbf3-f0ce97744aaf"
      },
      "execution_count": 23,
      "outputs": [
        {
          "output_type": "stream",
          "name": "stdout",
          "text": [
            "\n",
            "📘 Ringkasan Simple RNN Classifier\n",
            "  🔹 Akurasi training tertinggi: 0.7583\n",
            "  🔹 Akurasi validasi tertinggi: 0.7556\n",
            "  🔹 Loss training terendah: 0.7160\n",
            "  🔹 Loss validasi terendah: 0.7314\n",
            "--------------------------------------------------\n",
            "\n",
            "📘 Ringkasan LSTM Classifier\n",
            "  🔹 Akurasi training tertinggi: 0.8569\n",
            "  🔹 Akurasi validasi tertinggi: 0.7500\n",
            "  🔹 Loss training terendah: 0.3623\n",
            "  🔹 Loss validasi terendah: 0.5127\n",
            "--------------------------------------------------\n",
            "🏆 Model terbaik: Simple RNN (Val Accuracy = 0.7556)\n"
          ]
        }
      ]
    },
    {
      "cell_type": "code",
      "source": [
        "fig, axes = plt.subplots(1, 2, figsize=(14, 5))\n",
        "\n",
        "# Accuracy\n",
        "axes[0].plot(history_rnn_cls.history['accuracy'], label='RNN Train', linewidth=2)\n",
        "axes[0].plot(history_rnn_cls.history['val_accuracy'], label='RNN Val', linewidth=2)\n",
        "axes[0].plot(history_lstm_cls.history['accuracy'], label='LSTM Train', linewidth=2)\n",
        "axes[0].plot(history_lstm_cls.history['val_accuracy'], label='LSTM Val', linewidth=2)\n",
        "axes[0].set_title('Classification Accuracy Comparison', fontsize=14, fontweight='bold')\n",
        "axes[0].set_xlabel('Epoch')\n",
        "axes[0].set_ylabel('Accuracy')\n",
        "axes[0].legend()\n",
        "axes[0].grid(True, alpha=0.3)\n",
        "\n",
        "# Loss\n",
        "axes[1].plot(history_rnn_cls.history['loss'], label='RNN Train', linewidth=2)\n",
        "axes[1].plot(history_rnn_cls.history['val_loss'], label='RNN Val', linewidth=2)\n",
        "axes[1].plot(history_lstm_cls.history['loss'], label='LSTM Train', linewidth=2)\n",
        "axes[1].plot(history_lstm_cls.history['val_loss'], label='LSTM Val', linewidth=2)\n",
        "axes[1].set_title('Classification Loss Comparison', fontsize=14, fontweight='bold')\n",
        "axes[1].set_xlabel('Epoch')\n",
        "axes[1].set_ylabel('Loss')\n",
        "axes[1].legend()\n",
        "axes[1].grid(True, alpha=0.3)\n",
        "\n",
        "plt.tight_layout()\n",
        "plt.show()"
      ],
      "metadata": {
        "id": "2SHk5_urUOO5",
        "colab": {
          "base_uri": "https://localhost:8080/",
          "height": 507
        },
        "outputId": "71bec1c0-1d0b-44b2-b687-e493cf4ba63b"
      },
      "execution_count": 24,
      "outputs": [
        {
          "output_type": "display_data",
          "data": {
            "text/plain": [
              "<Figure size 1400x500 with 2 Axes>"
            ],
            "image/png": "[encoded data removed]"
          },
          "metadata": {}
        }
      ]
    }
  ]
}