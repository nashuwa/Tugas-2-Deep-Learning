{
  "nbformat": 4,
  "nbformat_minor": 0,
  "metadata": {
    "colab": {
      "provenance": []
    },
    "kernelspec": {
      "name": "python3",
      "display_name": "Python 3"
    },
    "language_info": {
      "name": "python"
    },
    "widgets": {
      "application/vnd.jupyter.widget-state+json": {
        "2a2dcd00f6fb4a26b41ce51b7fc24793": {
          "model_module": "@jupyter-widgets/controls",
          "model_name": "HBoxModel",
          "model_module_version": "1.5.0",
          "state": {
            "_dom_classes": [],
            "_model_module": "@jupyter-widgets/controls",
            "_model_module_version": "1.5.0",
            "_model_name": "HBoxModel",
            "_view_count": null,
            "_view_module": "@jupyter-widgets/controls",
            "_view_module_version": "1.5.0",
            "_view_name": "HBoxView",
            "box_style": "",
            "children": [
              "IPY_MODEL_a8f34e811e5a41dfbb72b93fc7a9dd05",
              "IPY_MODEL_bdda73f291204a89ac36006ced0fd32a",
              "IPY_MODEL_5e797007d6ee43ce91fcda59a54c7f3f"
            ],
            "layout": "IPY_MODEL_868c60492abb44deaa06fd49fb9dedd9"
          }
        },
        "a8f34e811e5a41dfbb72b93fc7a9dd05": {
          "model_module": "@jupyter-widgets/controls",
          "model_name": "HTMLModel",
          "model_module_version": "1.5.0",
          "state": {
            "_dom_classes": [],
            "_model_module": "@jupyter-widgets/controls",
            "_model_module_version": "1.5.0",
            "_model_name": "HTMLModel",
            "_view_count": null,
            "_view_module": "@jupyter-widgets/controls",
            "_view_module_version": "1.5.0",
            "_view_name": "HTMLView",
            "description": "",
            "description_tooltip": null,
            "layout": "IPY_MODEL_615c259b239a453288cae4ea8d0bf960",
            "placeholder": "​",
            "style": "IPY_MODEL_ab8f884d1ae44371b80539cb1f255c94",
            "value": "cc.id.300.vec.gz: 100%"
          }
        },
        "bdda73f291204a89ac36006ced0fd32a": {
          "model_module": "@jupyter-widgets/controls",
          "model_name": "FloatProgressModel",
          "model_module_version": "1.5.0",
          "state": {
            "_dom_classes": [],
            "_model_module": "@jupyter-widgets/controls",
            "_model_module_version": "1.5.0",
            "_model_name": "FloatProgressModel",
            "_view_count": null,
            "_view_module": "@jupyter-widgets/controls",
            "_view_module_version": "1.5.0",
            "_view_name": "ProgressView",
            "bar_style": "success",
            "description": "",
            "description_tooltip": null,
            "layout": "IPY_MODEL_b4a7284ffdce4b4c8e880fb22a128d67",
            "max": 1227018698,
            "min": 0,
            "orientation": "horizontal",
            "style": "IPY_MODEL_0bcdfd04cd0b49fa813aadbd654317f7",
            "value": 1227018698
          }
        },
        "5e797007d6ee43ce91fcda59a54c7f3f": {
          "model_module": "@jupyter-widgets/controls",
          "model_name": "HTMLModel",
          "model_module_version": "1.5.0",
          "state": {
            "_dom_classes": [],
            "_model_module": "@jupyter-widgets/controls",
            "_model_module_version": "1.5.0",
            "_model_name": "HTMLModel",
            "_view_count": null,
            "_view_module": "@jupyter-widgets/controls",
            "_view_module_version": "1.5.0",
            "_view_name": "HTMLView",
            "description": "",
            "description_tooltip": null,
            "layout": "IPY_MODEL_eab0101f9ede41b5ba16363fa03ffb19",
            "placeholder": "​",
            "style": "IPY_MODEL_883c2cc604694dcbbca98c1a7365f75d",
            "value": " 1.23G/1.23G [00:14&lt;00:00, 119MiB/s]"
          }
        },
        "868c60492abb44deaa06fd49fb9dedd9": {
          "model_module": "@jupyter-widgets/base",
          "model_name": "LayoutModel",
          "model_module_version": "1.2.0",
          "state": {
            "_model_module": "@jupyter-widgets/base",
            "_model_module_version": "1.2.0",
            "_model_name": "LayoutModel",
            "_view_count": null,
            "_view_module": "@jupyter-widgets/base",
            "_view_module_version": "1.2.0",
            "_view_name": "LayoutView",
            "align_content": null,
            "align_items": null,
            "align_self": null,
            "border": null,
            "bottom": null,
            "display": null,
            "flex": null,
            "flex_flow": null,
            "grid_area": null,
            "grid_auto_columns": null,
            "grid_auto_flow": null,
            "grid_auto_rows": null,
            "grid_column": null,
            "grid_gap": null,
            "grid_row": null,
            "grid_template_areas": null,
            "grid_template_columns": null,
            "grid_template_rows": null,
            "height": null,
            "justify_content": null,
            "justify_items": null,
            "left": null,
            "margin": null,
            "max_height": null,
            "max_width": null,
            "min_height": null,
            "min_width": null,
            "object_fit": null,
            "object_position": null,
            "order": null,
            "overflow": null,
            "overflow_x": null,
            "overflow_y": null,
            "padding": null,
            "right": null,
            "top": null,
            "visibility": null,
            "width": null
          }
        },
        "615c259b239a453288cae4ea8d0bf960": {
          "model_module": "@jupyter-widgets/base",
          "model_name": "LayoutModel",
          "model_module_version": "1.2.0",
          "state": {
            "_model_module": "@jupyter-widgets/base",
            "_model_module_version": "1.2.0",
            "_model_name": "LayoutModel",
            "_view_count": null,
            "_view_module": "@jupyter-widgets/base",
            "_view_module_version": "1.2.0",
            "_view_name": "LayoutView",
            "align_content": null,
            "align_items": null,
            "align_self": null,
            "border": null,
            "bottom": null,
            "display": null,
            "flex": null,
            "flex_flow": null,
            "grid_area": null,
            "grid_auto_columns": null,
            "grid_auto_flow": null,
            "grid_auto_rows": null,
            "grid_column": null,
            "grid_gap": null,
            "grid_row": null,
            "grid_template_areas": null,
            "grid_template_columns": null,
            "grid_template_rows": null,
            "height": null,
            "justify_content": null,
            "justify_items": null,
            "left": null,
            "margin": null,
            "max_height": null,
            "max_width": null,
            "min_height": null,
            "min_width": null,
            "object_fit": null,
            "object_position": null,
            "order": null,
            "overflow": null,
            "overflow_x": null,
            "overflow_y": null,
            "padding": null,
            "right": null,
            "top": null,
            "visibility": null,
            "width": null
          }
        },
        "ab8f884d1ae44371b80539cb1f255c94": {
          "model_module": "@jupyter-widgets/controls",
          "model_name": "DescriptionStyleModel",
          "model_module_version": "1.5.0",
          "state": {
            "_model_module": "@jupyter-widgets/controls",
            "_model_module_version": "1.5.0",
            "_model_name": "DescriptionStyleModel",
            "_view_count": null,
            "_view_module": "@jupyter-widgets/base",
            "_view_module_version": "1.2.0",
            "_view_name": "StyleView",
            "description_width": ""
          }
        },
        "b4a7284ffdce4b4c8e880fb22a128d67": {
          "model_module": "@jupyter-widgets/base",
          "model_name": "LayoutModel",
          "model_module_version": "1.2.0",
          "state": {
            "_model_module": "@jupyter-widgets/base",
            "_model_module_version": "1.2.0",
            "_model_name": "LayoutModel",
            "_view_count": null,
            "_view_module": "@jupyter-widgets/base",
            "_view_module_version": "1.2.0",
            "_view_name": "LayoutView",
            "align_content": null,
            "align_items": null,
            "align_self": null,
            "border": null,
            "bottom": null,
            "display": null,
            "flex": null,
            "flex_flow": null,
            "grid_area": null,
            "grid_auto_columns": null,
            "grid_auto_flow": null,
            "grid_auto_rows": null,
            "grid_column": null,
            "grid_gap": null,
            "grid_row": null,
            "grid_template_areas": null,
            "grid_template_columns": null,
            "grid_template_rows": null,
            "height": null,
            "justify_content": null,
            "justify_items": null,
            "left": null,
            "margin": null,
            "max_height": null,
            "max_width": null,
            "min_height": null,
            "min_width": null,
            "object_fit": null,
            "object_position": null,
            "order": null,
            "overflow": null,
            "overflow_x": null,
            "overflow_y": null,
            "padding": null,
            "right": null,
            "top": null,
            "visibility": null,
            "width": null
          }
        },
        "0bcdfd04cd0b49fa813aadbd654317f7": {
          "model_module": "@jupyter-widgets/controls",
          "model_name": "ProgressStyleModel",
          "model_module_version": "1.5.0",
          "state": {
            "_model_module": "@jupyter-widgets/controls",
            "_model_module_version": "1.5.0",
            "_model_name": "ProgressStyleModel",
            "_view_count": null,
            "_view_module": "@jupyter-widgets/base",
            "_view_module_version": "1.2.0",
            "_view_name": "StyleView",
            "bar_color": null,
            "description_width": ""
          }
        },
        "eab0101f9ede41b5ba16363fa03ffb19": {
          "model_module": "@jupyter-widgets/base",
          "model_name": "LayoutModel",
          "model_module_version": "1.2.0",
          "state": {
            "_model_module": "@jupyter-widgets/base",
            "_model_module_version": "1.2.0",
            "_model_name": "LayoutModel",
            "_view_count": null,
            "_view_module": "@jupyter-widgets/base",
            "_view_module_version": "1.2.0",
            "_view_name": "LayoutView",
            "align_content": null,
            "align_items": null,
            "align_self": null,
            "border": null,
            "bottom": null,
            "display": null,
            "flex": null,
            "flex_flow": null,
            "grid_area": null,
            "grid_auto_columns": null,
            "grid_auto_flow": null,
            "grid_auto_rows": null,
            "grid_column": null,
            "grid_gap": null,
            "grid_row": null,
            "grid_template_areas": null,
            "grid_template_columns": null,
            "grid_template_rows": null,
            "height": null,
            "justify_content": null,
            "justify_items": null,
            "left": null,
            "margin": null,
            "max_height": null,
            "max_width": null,
            "min_height": null,
            "min_width": null,
            "object_fit": null,
            "object_position": null,
            "order": null,
            "overflow": null,
            "overflow_x": null,
            "overflow_y": null,
            "padding": null,
            "right": null,
            "top": null,
            "visibility": null,
            "width": null
          }
        },
        "883c2cc604694dcbbca98c1a7365f75d": {
          "model_module": "@jupyter-widgets/controls",
          "model_name": "DescriptionStyleModel",
          "model_module_version": "1.5.0",
          "state": {
            "_model_module": "@jupyter-widgets/controls",
            "_model_module_version": "1.5.0",
            "_model_name": "DescriptionStyleModel",
            "_view_count": null,
            "_view_module": "@jupyter-widgets/base",
            "_view_module_version": "1.2.0",
            "_view_name": "StyleView",
            "description_width": ""
          }
        }
      }
    }
  },
  "cells": [
    {
      "cell_type": "markdown",
      "source": [
        "## **Install & Import Libraries**"
      ],
      "metadata": {
        "id": "uXnAlU8gQK5b"
      }
    },
    {
      "cell_type": "code",
      "source": [
        "import requests\n",
        "import gzip\n",
        "import shutil\n",
        "import os\n",
        "\n",
        "# URL dan nama file\n",
        "url = \"https://dl.fbaipublicfiles.com/fasttext/vectors-crawl/cc.id.300.vec.gz\"\n",
        "gz_filename = \"cc.id.300.vec.gz\"\n",
        "vec_filename = \"cc.id.300.vec\"\n",
        "\n",
        "# Fungsi untuk menampilkan progress bar\n",
        "def download_with_progress(url, filename):\n",
        "    with requests.get(url, stream=True) as r:\n",
        "        r.raise_for_status()\n",
        "        total_size = int(r.headers.get('content-length', 0))\n",
        "        block_size = 8192\n",
        "        with open(filename, 'wb') as f:\n",
        "            from tqdm.notebook import tqdm\n",
        "            with tqdm(total=total_size, unit='iB', unit_scale=True, desc=filename) as pbar:\n",
        "                for chunk in r.iter_content(chunk_size=block_size):\n",
        "                    pbar.update(len(chunk))\n",
        "                    f.write(chunk)\n",
        "    return total_size\n",
        "\n",
        "try:\n",
        "    # Cek apakah file final sudah ada\n",
        "    if os.path.exists(vec_filename):\n",
        "        print(f\"✅ File '{vec_filename}' sudah ada. Tidak perlu mengunduh lagi.\")\n",
        "    else:\n",
        "        # --- Langkah 1: Mengunduh file ---\n",
        "        print(f\"📥 Mengunduh file dari {url}...\")\n",
        "        if not os.path.exists(gz_filename):\n",
        "            download_with_progress(url, gz_filename)\n",
        "            print(f\"✅ File '{gz_filename}' berhasil diunduh.\")\n",
        "        else:\n",
        "            print(f\"File '{gz_filename}' sudah ada. Melewati proses unduh.\")\n",
        "\n",
        "        # --- Langkah 2: Mengekstrak file .gz ---\n",
        "        print(f\"⚙️ Mengekstrak '{gz_filename}'... (Proses ini mungkin memakan waktu beberapa menit)\")\n",
        "        with gzip.open(gz_filename, 'rb') as f_in:\n",
        "            with open(vec_filename, 'wb') as f_out:\n",
        "                shutil.copyfileobj(f_in, f_out)\n",
        "        print(f\"✅ Ekstraksi selesai. File '{vec_filename}' telah dibuat.\")\n",
        "\n",
        "        # --- Langkah 3: Hapus file .gz untuk menghemat ruang ---\n",
        "        os.remove(gz_filename)\n",
        "        print(f\"🗑️ File '{gz_filename}' telah dihapus untuk menghemat ruang.\")\n",
        "\n",
        "except Exception as e:\n",
        "    print(f\"❌ Terjadi kesalahan: {e}\")"
      ],
      "metadata": {
        "colab": {
          "base_uri": "https://localhost:8080/",
          "height": 136,
          "referenced_widgets": [
            "2a2dcd00f6fb4a26b41ce51b7fc24793",
            "a8f34e811e5a41dfbb72b93fc7a9dd05",
            "bdda73f291204a89ac36006ced0fd32a",
            "5e797007d6ee43ce91fcda59a54c7f3f",
            "868c60492abb44deaa06fd49fb9dedd9",
            "615c259b239a453288cae4ea8d0bf960",
            "ab8f884d1ae44371b80539cb1f255c94",
            "b4a7284ffdce4b4c8e880fb22a128d67",
            "0bcdfd04cd0b49fa813aadbd654317f7",
            "eab0101f9ede41b5ba16363fa03ffb19",
            "883c2cc604694dcbbca98c1a7365f75d"
          ]
        },
        "id": "V-K14VGDiFlg",
        "outputId": "9c934087-9e23-4b5f-fe31-d1cae4927595"
      },
      "execution_count": null,
      "outputs": [
        {
          "output_type": "stream",
          "name": "stdout",
          "text": [
            "📥 Mengunduh file dari https://dl.fbaipublicfiles.com/fasttext/vectors-crawl/cc.id.300.vec.gz...\n"
          ]
        },
        {
          "output_type": "display_data",
          "data": {
            "text/plain": [
              "cc.id.300.vec.gz:   0%|          | 0.00/1.23G [00:00<?, ?iB/s]"
            ],
            "application/vnd.jupyter.widget-view+json": {
              "version_major": 2,
              "version_minor": 0,
              "model_id": "2a2dcd00f6fb4a26b41ce51b7fc24793"
            }
          },
          "metadata": {}
        },
        {
          "output_type": "stream",
          "name": "stdout",
          "text": [
            "✅ File 'cc.id.300.vec.gz' berhasil diunduh.\n",
            "⚙️ Mengekstrak 'cc.id.300.vec.gz'... (Proses ini mungkin memakan waktu beberapa menit)\n",
            "✅ Ekstraksi selesai. File 'cc.id.300.vec' telah dibuat.\n",
            "🗑️ File 'cc.id.300.vec.gz' telah dihapus untuk menghemat ruang.\n"
          ]
        }
      ]
    },
    {
      "cell_type": "code",
      "source": [
        "!pip install numpy pandas scikit-learn nltk matplotlib seaborn\n",
        "!pip install tensorflow==2.19.0"
      ],
      "metadata": {
        "colab": {
          "base_uri": "https://localhost:8080/"
        },
        "id": "rsE9s4L-I7Ra",
        "outputId": "204fb2e7-45a9-4fbc-af12-45be9ee24042",
        "collapsed": true
      },
      "execution_count": null,
      "outputs": [
        {
          "output_type": "stream",
          "name": "stdout",
          "text": [
            "Requirement already satisfied: numpy in /usr/local/lib/python3.12/dist-packages (2.0.2)\n",
            "Requirement already satisfied: pandas in /usr/local/lib/python3.12/dist-packages (2.2.2)\n",
            "Requirement already satisfied: scikit-learn in /usr/local/lib/python3.12/dist-packages (1.6.1)\n",
            "Requirement already satisfied: nltk in /usr/local/lib/python3.12/dist-packages (3.9.1)\n",
            "Requirement already satisfied: matplotlib in /usr/local/lib/python3.12/dist-packages (3.10.0)\n",
            "Requirement already satisfied: seaborn in /usr/local/lib/python3.12/dist-packages (0.13.2)\n",
            "Requirement already satisfied: python-dateutil>=2.8.2 in /usr/local/lib/python3.12/dist-packages (from pandas) (2.9.0.post0)\n",
            "Requirement already satisfied: pytz>=2020.1 in /usr/local/lib/python3.12/dist-packages (from pandas) (2025.2)\n",
            "Requirement already satisfied: tzdata>=2022.7 in /usr/local/lib/python3.12/dist-packages (from pandas) (2025.2)\n",
            "Requirement already satisfied: scipy>=1.6.0 in /usr/local/lib/python3.12/dist-packages (from scikit-learn) (1.16.2)\n",
            "Requirement already satisfied: joblib>=1.2.0 in /usr/local/lib/python3.12/dist-packages (from scikit-learn) (1.5.2)\n",
            "Requirement already satisfied: threadpoolctl>=3.1.0 in /usr/local/lib/python3.12/dist-packages (from scikit-learn) (3.6.0)\n",
            "Requirement already satisfied: click in /usr/local/lib/python3.12/dist-packages (from nltk) (8.3.0)\n",
            "Requirement already satisfied: regex>=2021.8.3 in /usr/local/lib/python3.12/dist-packages (from nltk) (2024.11.6)\n",
            "Requirement already satisfied: tqdm in /usr/local/lib/python3.12/dist-packages (from nltk) (4.67.1)\n",
            "Requirement already satisfied: contourpy>=1.0.1 in /usr/local/lib/python3.12/dist-packages (from matplotlib) (1.3.3)\n",
            "Requirement already satisfied: cycler>=0.10 in /usr/local/lib/python3.12/dist-packages (from matplotlib) (0.12.1)\n",
            "Requirement already satisfied: fonttools>=4.22.0 in /usr/local/lib/python3.12/dist-packages (from matplotlib) (4.60.1)\n",
            "Requirement already satisfied: kiwisolver>=1.3.1 in /usr/local/lib/python3.12/dist-packages (from matplotlib) (1.4.9)\n",
            "Requirement already satisfied: packaging>=20.0 in /usr/local/lib/python3.12/dist-packages (from matplotlib) (25.0)\n",
            "Requirement already satisfied: pillow>=8 in /usr/local/lib/python3.12/dist-packages (from matplotlib) (11.3.0)\n",
            "Requirement already satisfied: pyparsing>=2.3.1 in /usr/local/lib/python3.12/dist-packages (from matplotlib) (3.2.5)\n",
            "Requirement already satisfied: six>=1.5 in /usr/local/lib/python3.12/dist-packages (from python-dateutil>=2.8.2->pandas) (1.17.0)\n",
            "Requirement already satisfied: tensorflow==2.19.0 in /usr/local/lib/python3.12/dist-packages (2.19.0)\n",
            "Requirement already satisfied: absl-py>=1.0.0 in /usr/local/lib/python3.12/dist-packages (from tensorflow==2.19.0) (1.4.0)\n",
            "Requirement already satisfied: astunparse>=1.6.0 in /usr/local/lib/python3.12/dist-packages (from tensorflow==2.19.0) (1.6.3)\n",
            "Requirement already satisfied: flatbuffers>=24.3.25 in /usr/local/lib/python3.12/dist-packages (from tensorflow==2.19.0) (25.9.23)\n",
            "Requirement already satisfied: gast!=0.5.0,!=0.5.1,!=0.5.2,>=0.2.1 in /usr/local/lib/python3.12/dist-packages (from tensorflow==2.19.0) (0.6.0)\n",
            "Requirement already satisfied: google-pasta>=0.1.1 in /usr/local/lib/python3.12/dist-packages (from tensorflow==2.19.0) (0.2.0)\n",
            "Requirement already satisfied: libclang>=13.0.0 in /usr/local/lib/python3.12/dist-packages (from tensorflow==2.19.0) (18.1.1)\n",
            "Requirement already satisfied: opt-einsum>=2.3.2 in /usr/local/lib/python3.12/dist-packages (from tensorflow==2.19.0) (3.4.0)\n",
            "Requirement already satisfied: packaging in /usr/local/lib/python3.12/dist-packages (from tensorflow==2.19.0) (25.0)\n",
            "Requirement already satisfied: protobuf!=4.21.0,!=4.21.1,!=4.21.2,!=4.21.3,!=4.21.4,!=4.21.5,<6.0.0dev,>=3.20.3 in /usr/local/lib/python3.12/dist-packages (from tensorflow==2.19.0) (5.29.5)\n",
            "Requirement already satisfied: requests<3,>=2.21.0 in /usr/local/lib/python3.12/dist-packages (from tensorflow==2.19.0) (2.32.4)\n",
            "Requirement already satisfied: setuptools in /usr/local/lib/python3.12/dist-packages (from tensorflow==2.19.0) (75.2.0)\n",
            "Requirement already satisfied: six>=1.12.0 in /usr/local/lib/python3.12/dist-packages (from tensorflow==2.19.0) (1.17.0)\n",
            "Requirement already satisfied: termcolor>=1.1.0 in /usr/local/lib/python3.12/dist-packages (from tensorflow==2.19.0) (3.1.0)\n",
            "Requirement already satisfied: typing-extensions>=3.6.6 in /usr/local/lib/python3.12/dist-packages (from tensorflow==2.19.0) (4.15.0)\n",
            "Requirement already satisfied: wrapt>=1.11.0 in /usr/local/lib/python3.12/dist-packages (from tensorflow==2.19.0) (1.17.3)\n",
            "Requirement already satisfied: grpcio<2.0,>=1.24.3 in /usr/local/lib/python3.12/dist-packages (from tensorflow==2.19.0) (1.75.1)\n",
            "Requirement already satisfied: tensorboard~=2.19.0 in /usr/local/lib/python3.12/dist-packages (from tensorflow==2.19.0) (2.19.0)\n",
            "Requirement already satisfied: keras>=3.5.0 in /usr/local/lib/python3.12/dist-packages (from tensorflow==2.19.0) (3.10.0)\n",
            "Requirement already satisfied: numpy<2.2.0,>=1.26.0 in /usr/local/lib/python3.12/dist-packages (from tensorflow==2.19.0) (2.0.2)\n",
            "Requirement already satisfied: h5py>=3.11.0 in /usr/local/lib/python3.12/dist-packages (from tensorflow==2.19.0) (3.14.0)\n",
            "Requirement already satisfied: ml-dtypes<1.0.0,>=0.5.1 in /usr/local/lib/python3.12/dist-packages (from tensorflow==2.19.0) (0.5.3)\n",
            "Requirement already satisfied: wheel<1.0,>=0.23.0 in /usr/local/lib/python3.12/dist-packages (from astunparse>=1.6.0->tensorflow==2.19.0) (0.45.1)\n",
            "Requirement already satisfied: rich in /usr/local/lib/python3.12/dist-packages (from keras>=3.5.0->tensorflow==2.19.0) (13.9.4)\n",
            "Requirement already satisfied: namex in /usr/local/lib/python3.12/dist-packages (from keras>=3.5.0->tensorflow==2.19.0) (0.1.0)\n",
            "Requirement already satisfied: optree in /usr/local/lib/python3.12/dist-packages (from keras>=3.5.0->tensorflow==2.19.0) (0.17.0)\n",
            "Requirement already satisfied: charset_normalizer<4,>=2 in /usr/local/lib/python3.12/dist-packages (from requests<3,>=2.21.0->tensorflow==2.19.0) (3.4.3)\n",
            "Requirement already satisfied: idna<4,>=2.5 in /usr/local/lib/python3.12/dist-packages (from requests<3,>=2.21.0->tensorflow==2.19.0) (3.10)\n",
            "Requirement already satisfied: urllib3<3,>=1.21.1 in /usr/local/lib/python3.12/dist-packages (from requests<3,>=2.21.0->tensorflow==2.19.0) (2.5.0)\n",
            "Requirement already satisfied: certifi>=2017.4.17 in /usr/local/lib/python3.12/dist-packages (from requests<3,>=2.21.0->tensorflow==2.19.0) (2025.10.5)\n",
            "Requirement already satisfied: markdown>=2.6.8 in /usr/local/lib/python3.12/dist-packages (from tensorboard~=2.19.0->tensorflow==2.19.0) (3.9)\n",
            "Requirement already satisfied: tensorboard-data-server<0.8.0,>=0.7.0 in /usr/local/lib/python3.12/dist-packages (from tensorboard~=2.19.0->tensorflow==2.19.0) (0.7.2)\n",
            "Requirement already satisfied: werkzeug>=1.0.1 in /usr/local/lib/python3.12/dist-packages (from tensorboard~=2.19.0->tensorflow==2.19.0) (3.1.3)\n",
            "Requirement already satisfied: MarkupSafe>=2.1.1 in /usr/local/lib/python3.12/dist-packages (from werkzeug>=1.0.1->tensorboard~=2.19.0->tensorflow==2.19.0) (3.0.3)\n",
            "Requirement already satisfied: markdown-it-py>=2.2.0 in /usr/local/lib/python3.12/dist-packages (from rich->keras>=3.5.0->tensorflow==2.19.0) (4.0.0)\n",
            "Requirement already satisfied: pygments<3.0.0,>=2.13.0 in /usr/local/lib/python3.12/dist-packages (from rich->keras>=3.5.0->tensorflow==2.19.0) (2.19.2)\n",
            "Requirement already satisfied: mdurl~=0.1 in /usr/local/lib/python3.12/dist-packages (from markdown-it-py>=2.2.0->rich->keras>=3.5.0->tensorflow==2.19.0) (0.1.2)\n"
          ]
        }
      ]
    },
    {
      "cell_type": "code",
      "metadata": {
        "colab": {
          "base_uri": "https://localhost:8080/"
        },
        "id": "40efd22d",
        "outputId": "4aea53e1-8be9-4e1f-851f-0df5111aef43"
      },
      "source": [
        "!pip install Sastrawi"
      ],
      "execution_count": null,
      "outputs": [
        {
          "output_type": "stream",
          "name": "stdout",
          "text": [
            "Collecting Sastrawi\n",
            "  Downloading Sastrawi-1.0.1-py2.py3-none-any.whl.metadata (909 bytes)\n",
            "Downloading Sastrawi-1.0.1-py2.py3-none-any.whl (209 kB)\n",
            "\u001b[?25l   \u001b[90m━━━━━━━━━━━━━━━━━━━━━━━━━━━━━━━━━━━━━━━━\u001b[0m \u001b[32m0.0/209.7 kB\u001b[0m \u001b[31m?\u001b[0m eta \u001b[36m-:--:--\u001b[0m\r\u001b[2K   \u001b[90m━━━━━━━━━━━━━━━━━━━━━━━━━━━━━━━━━━━━━━━━\u001b[0m \u001b[32m209.7/209.7 kB\u001b[0m \u001b[31m12.2 MB/s\u001b[0m eta \u001b[36m0:00:00\u001b[0m\n",
            "\u001b[?25hInstalling collected packages: Sastrawi\n",
            "Successfully installed Sastrawi-1.0.1\n"
          ]
        }
      ]
    },
    {
      "cell_type": "code",
      "execution_count": null,
      "metadata": {
        "id": "ZrGnyZM4IwUE"
      },
      "outputs": [],
      "source": [
        "import json\n",
        "import numpy as np\n",
        "import pandas as pd\n",
        "import matplotlib.pyplot as plt\n",
        "import seaborn as sns\n",
        "from sklearn.model_selection import train_test_split\n",
        "from sklearn.metrics import classification_report, confusion_matrix, accuracy_score\n",
        "import tensorflow as tf # Import tensorflow with alias tf\n",
        "from tensorflow.keras.preprocessing.text import Tokenizer\n",
        "from tensorflow.keras.utils import pad_sequences\n",
        "from tensorflow.keras.models import Sequential\n",
        "from tensorflow.keras.layers import Embedding, SimpleRNN, LSTM, Dense, Dropout, Bidirectional, BatchNormalization # Import BatchNormalization\n",
        "from tensorflow.keras.optimizers import Adam, RMSprop, AdamW # Import RMSprop and AdamW\n",
        "from tensorflow.keras.callbacks import EarlyStopping, ReduceLROnPlateau"
      ]
    },
    {
      "cell_type": "markdown",
      "source": [
        "## **Clone Dan Load Sentiment Dataset**"
      ],
      "metadata": {
        "id": "N89mGLPmQVjG"
      }
    },
    {
      "cell_type": "code",
      "source": [
        "import os\n",
        "import pandas as pd\n",
        "\n",
        "# Clone repo jika belum ada\n",
        "if not os.path.exists('Dataset-Sentimen-Analisis-Bahasa-Indonesia'):\n",
        "    !git clone https://github.com/rizalespe/Dataset-Sentimen-Analisis-Bahasa-Indonesia.git\n",
        "else:\n",
        "    print(\"✅ Repository sudah ada, skip clone.\")\n",
        "\n",
        "# Dataset Pilkada\n",
        "csv_pilkada = 'Dataset-Sentimen-Analisis-Bahasa-Indonesia/dataset_tweet_sentiment_pilkada_DKI_2017.csv'\n",
        "try:\n",
        "    df1 = pd.read_csv(csv_pilkada, encoding='utf-8')\n",
        "except:\n",
        "    df1 = pd.read_csv(csv_pilkada, encoding='latin1')\n",
        "\n",
        "df1 = df1.dropna(subset=['Text Tweet', 'Sentiment'])\n",
        "df1['Sentiment'] = df1['Sentiment'].str.lower().str.strip()\n",
        "df1 = df1[['Sentiment', 'Text Tweet']]  # Ambil kolom yang diperlukan\n",
        "\n",
        "# Dataset Cellular Service Provider\n",
        "csv_cellular = 'Dataset-Sentimen-Analisis-Bahasa-Indonesia/dataset_tweet_sentiment_cellular_service_provider.csv'\n",
        "try:\n",
        "    df2 = pd.read_csv(csv_cellular, encoding='utf-8')\n",
        "except:\n",
        "    df2 = pd.read_csv(csv_cellular, encoding='latin1')\n",
        "\n",
        "df2 = df2.dropna(subset=['Text Tweet', 'Sentiment'])\n",
        "df2['Sentiment'] = df2['Sentiment'].str.lower().str.strip()\n",
        "df2 = df2[['Sentiment', 'Text Tweet']]  # Ambil kolom yang diperlukan\n",
        "\n",
        "# Gabungkan kedua dataset\n",
        "df_all = pd.concat([df1, df2], ignore_index=True)\n",
        "\n",
        "print(f\"✅ Dataset gabungan: {df_all.shape[0]} baris\")\n",
        "print(df_all['Sentiment'].value_counts())\n",
        "print(\"\\n🔎 Sample:\")\n",
        "print(df_all.head(3))\n"
      ],
      "metadata": {
        "colab": {
          "base_uri": "https://localhost:8080/"
        },
        "id": "g2Nj5pzXFIZk",
        "outputId": "caa7fff8-4073-48d5-fdae-a30048d84e4b"
      },
      "execution_count": null,
      "outputs": [
        {
          "output_type": "stream",
          "name": "stdout",
          "text": [
            "Cloning into 'Dataset-Sentimen-Analisis-Bahasa-Indonesia'...\n",
            "remote: Enumerating objects: 169, done.\u001b[K\n",
            "remote: Counting objects: 100% (46/46), done.\u001b[K\n",
            "remote: Compressing objects: 100% (46/46), done.\u001b[K\n",
            "remote: Total 169 (delta 24), reused 0 (delta 0), pack-reused 123 (from 1)\u001b[K\n",
            "Receiving objects: 100% (169/169), 164.89 KiB | 16.49 MiB/s, done.\n",
            "Resolving deltas: 100% (80/80), done.\n",
            "✅ Dataset gabungan: 1200 baris\n",
            "Sentiment\n",
            "negative    611\n",
            "positive    589\n",
            "Name: count, dtype: int64\n",
            "\n",
            "🔎 Sample:\n",
            "  Sentiment                                         Text Tweet\n",
            "0  negative  Banyak akun kloning seolah2 pendukung #agussil...\n",
            "1  negative  #agussilvy bicara apa kasihan yaa...lap itu ai...\n",
            "2  negative  Kalau aku sih gak nunggu hasil akhir QC tp lag...\n"
          ]
        }
      ]
    },
    {
      "cell_type": "markdown",
      "source": [
        "### **Preprocess Sentiment Data**"
      ],
      "metadata": {
        "id": "fk9bY0TcFHD6"
      }
    },
    {
      "cell_type": "code",
      "source": [
        "import re\n",
        "from Sastrawi.Stemmer.StemmerFactory import StemmerFactory\n",
        "from nltk.corpus import stopwords\n",
        "\n",
        "# Pastikan stopwords NLTK sudah diunduh\n",
        "import nltk\n",
        "nltk.download('stopwords')\n",
        "\n",
        "stop_words = set(stopwords.words('indonesian'))\n",
        "factory = StemmerFactory()\n",
        "stemmer = factory.create_stemmer()\n",
        "\n",
        "def clean_text(text):\n",
        "    # Lowercase\n",
        "    text = text.lower()\n",
        "    # Hapus URL\n",
        "    text = re.sub(r'http\\S+|www\\S+|https\\S+', '', text)\n",
        "    # Hapus mention dan hashtag (tapi simpan isi kata hashtag)\n",
        "    text = re.sub(r'@\\w+', '', text)\n",
        "    text = re.sub(r'#(\\w+)', r'\\1', text)\n",
        "    # Hapus angka berlebihan\n",
        "    text = re.sub(r'\\d+', '', text)\n",
        "    # Hapus tanda baca dan karakter non-alfabet\n",
        "    text = re.sub(r'[^a-zA-Z\\s]', '', text)\n",
        "    # Hapus spasi berlebih\n",
        "    text = re.sub(r'\\s+', ' ', text).strip()\n",
        "\n",
        "\n",
        "    return text # Added return statement"
      ],
      "metadata": {
        "colab": {
          "base_uri": "https://localhost:8080/"
        },
        "id": "dOHcp9LKHSu9",
        "outputId": "ea0a8038-4eaa-49ea-fd6a-572d4541a6e2"
      },
      "execution_count": null,
      "outputs": [
        {
          "output_type": "stream",
          "name": "stderr",
          "text": [
            "[nltk_data] Downloading package stopwords to /root/nltk_data...\n",
            "[nltk_data]   Unzipping corpora/stopwords.zip.\n"
          ]
        }
      ]
    },
    {
      "cell_type": "code",
      "source": [
        "print(\"\\n📊 Preprocessing Sentiment Data...\")\n",
        "\n",
        "print(\"\\n📊 Preprocessing Sentiment Data...\")\n",
        "\n",
        "# --- 1️⃣ Ambil teks dan label dari DATA GABUNGAN ---\n",
        "texts_sentimen = df_all['Text Tweet'].tolist()  # <-- PERBAIKAN\n",
        "labels_sentimen = df_all['Sentiment'].tolist() # <-- PERBAIKAN\n",
        "label_column = 'Sentiment'\n",
        "\n",
        "# --- 2️⃣ Bersihkan teks (kode ini sudah benar) ---\n",
        "print(\"🧼 Cleaning texts...\")\n",
        "texts_sentimen = [clean_text(t) for t in texts_sentimen]\n",
        "print(\"✅ Contoh hasil bersih:\")\n",
        "print(texts_sentimen[:5])\n",
        "\n",
        "# --- 3️⃣ Cek label unik dan mapping dari DATA GABUNGAN ---\n",
        "unique_labels = sorted(df_all[label_column].str.lower().str.strip().unique()) # <-- PERBAIKAN\n",
        "print(f\"Label unik ditemukan: {unique_labels}\")\n",
        "\n",
        "# Sisa kode di bawah ini sudah benar dan tidak perlu diubah\n",
        "label_order = ['negative', 'positive']\n",
        "label_to_id = {label: idx for idx, label in enumerate(label_order) if label in unique_labels}\n",
        "id_to_label = {idx: label for label, idx in label_to_id.items()}\n",
        "\n",
        "y_sentimen = np.array([label_to_id[label] for label in labels_sentimen if label in label_to_id])\n",
        "num_classes = len(label_to_id)\n",
        "print(f\"Label mapping: {label_to_id}\")\n",
        "print(f\"Number of classes: {num_classes}\")\n",
        "\n",
        "# --- 4️⃣ Split dulu sebelum fit tokenizer\n",
        "X_train_texts, X_test_texts, y_train_s, y_test_s = train_test_split(\n",
        "    texts_sentimen, y_sentimen, test_size=0.2, random_state=42, stratify=y_sentimen\n",
        ")\n",
        "\n",
        "# --- 5️⃣ Fit tokenizer only on the training data\n",
        "tokenizer_sentimen = Tokenizer(oov_token=\"<OOV>\", lower=True)\n",
        "tokenizer_sentimen.fit_on_texts(X_train_texts)\n",
        "\n",
        "vocab_size_sentimen = len(tokenizer_sentimen.word_index) + 1\n",
        "\n",
        "# --- 6️⃣ Convert text to sequence\n",
        "X_train_seq = tokenizer_sentimen.texts_to_sequences(X_train_texts)\n",
        "X_test_seq = tokenizer_sentimen.texts_to_sequences(X_test_texts)\n",
        "\n",
        "# --- 7️⃣ Calculate sequence length from train data only\n",
        "seq_lengths_train = [len(seq) for seq in X_train_seq]\n",
        "max_len_sentimen = int(np.percentile(seq_lengths_train, 95))  # 95th percentile from TRAIN\n",
        "\n",
        "# --- 8️⃣ Padding\n",
        "X_train_s = pad_sequences(X_train_seq, maxlen=max_len_sentimen, padding='post', truncating='post')\n",
        "X_test_s = pad_sequences(X_test_seq, maxlen=max_len_sentimen, padding='post', truncating='post')\n",
        "\n",
        "print(f\"Vocab size: {vocab_size_sentimen}\")\n",
        "print(f\"Max sequence length (95th percentile): {max_len_sentimen}\")\n",
        "print(f\"X_train shape: {X_train_s.shape}, X_test shape: {X_test_s.shape}\")"
      ],
      "metadata": {
        "colab": {
          "base_uri": "https://localhost:8080/"
        },
        "id": "-_ykJNGSNUrz",
        "outputId": "83591426-3d24-4a15-b68e-c072555beee4"
      },
      "execution_count": null,
      "outputs": [
        {
          "output_type": "stream",
          "name": "stdout",
          "text": [
            "\n",
            "📊 Preprocessing Sentiment Data...\n",
            "\n",
            "📊 Preprocessing Sentiment Data...\n",
            "🧼 Cleaning texts...\n",
            "✅ Contoh hasil bersih:\n",
            "['banyak akun kloning seolah pendukung agussilvy mulai menyerang paslon aniessandi dengan opini dan argumen pmbenaranjangan terkecoh', 'agussilvy bicara apa kasihan yaalap itu air matanya wkwkwkwk', 'kalau aku sih gak nunggu hasil akhir qc tp lagi nunggu motif cuitan pak kayak apa pasca agussilvy nyungsep', 'kasian oh kasian dengan peluru milyar untuk tiap rw agussilvy tidak mempan menangin pilkada quickcount pilkadaserentak', 'maaf ya pendukung agussilvyhayo dukung aniessandi diputaran']\n",
            "Label unik ditemukan: ['negative', 'positive']\n",
            "Label mapping: {'negative': 0, 'positive': 1}\n",
            "Number of classes: 2\n",
            "Vocab size: 3447\n",
            "Max sequence length (95th percentile): 21\n",
            "X_train shape: (960, 21), X_test shape: (240, 21)\n"
          ]
        }
      ]
    },
    {
      "cell_type": "markdown",
      "source": [
        "### **Build RNN dan LSTM Classifier (Many-to-One)**"
      ],
      "metadata": {
        "id": "2cPdAr-7QvtS"
      }
    },
    {
      "cell_type": "code",
      "source": [],
      "metadata": {
        "id": "JTLl59STNd3k"
      },
      "execution_count": null,
      "outputs": []
    },
    {
      "cell_type": "code",
      "source": [
        "# ======================================================================\n",
        "# LANGKAH 1: SIAPKAN SEMUA \"BAHAN\" DULU\n",
        "# ======================================================================\n",
        "\n",
        "# --- 1A. Muat Pre-trained Word Vectors dari File ---\n",
        "print(\"📖 Memuat pre-trained word vectors dari file cc.id.300.vec...\")\n",
        "embeddings_index = {}\n",
        "try:\n",
        "    with open('cc.id.300.vec', 'r', encoding='utf-8') as f:\n",
        "        for line in f:\n",
        "            values = line.split()\n",
        "            word = values[0]\n",
        "            coefs = np.asarray(values[1:], dtype='float32')\n",
        "            embeddings_index[word] = coefs\n",
        "except FileNotFoundError:\n",
        "    print(\"❌ ERROR: File 'cc.id.300.vec' tidak ditemukan.\")\n",
        "    raise\n",
        "\n",
        "print(f'✅ Ditemukan {len(embeddings_index)} word vectors.')\n",
        "\n",
        "# --- 1B. Buat Embedding Matrix Berdasarkan Kosakata Anda ---\n",
        "print(\"🛠️  Mempersiapkan embedding matrix...\")\n",
        "embedding_dim = 300 # Dimensi dari FastText\n",
        "# Pastikan tokenizer_sentimen sudah di-fit pada data training Anda\n",
        "embedding_matrix = np.zeros((vocab_size_sentimen, embedding_dim))\n",
        "for word, i in tokenizer_sentimen.word_index.items():\n",
        "    embedding_vector = embeddings_index.get(word)\n",
        "    if embedding_vector is not None:\n",
        "        embedding_matrix[i] = embedding_vector\n",
        "\n",
        "# ======================================================================\n",
        "# LANGKAH 2: DEFINISIKAN DAN BUAT MODEL (SETELAH BAHAN SIAP)\n",
        "# ======================================================================\n",
        "\n",
        "# --- 2A. Definisi Model RNN yang Seimbang ---\n",
        "def build_rnn_classifier_balanced(vocab_size, embedding_dim, max_len, embedding_matrix):\n",
        "    model = Sequential([\n",
        "        Embedding(\n",
        "            input_dim=vocab_size, output_dim=embedding_dim,\n",
        "            weights=[embedding_matrix], input_length=max_len, trainable=False\n",
        "        ),\n",
        "        # Hapus Bidirectional untuk model yang lebih sederhana dan tidak mudah overfit\n",
        "        Bidirectional(SimpleRNN(32, recurrent_dropout=0.2, kernel_regularizer=tf.keras.regularizers.l2(0.01))),\n",
        "        Dropout(0.5),\n",
        "        Dense(16, activation='relu'),\n",
        "        Dense(1, activation='sigmoid')\n",
        "    ], name=\"RNN_Classifier_Balanced\")\n",
        "    model.compile(loss='binary_crossentropy', optimizer=Adam(learning_rate=0.0005), metrics=['accuracy'])\n",
        "    return model\n",
        "\n",
        "# --- 2B. Definisi Model LSTM ---\n",
        "def build_lstm_classifier_improved(vocab_size, embedding_dim, max_len, embedding_matrix):\n",
        "    model = Sequential([\n",
        "        Embedding(\n",
        "            input_dim=vocab_size, output_dim=embedding_dim,\n",
        "            weights=[embedding_matrix], input_length=max_len, trainable=False\n",
        "        ),\n",
        "        Bidirectional(LSTM(64)),\n",
        "        Dropout(0.5),\n",
        "        Dense(16, activation='relu'),\n",
        "        Dense(1, activation='sigmoid')\n",
        "    ], name=\"LSTM_Classifier_Improved\")\n",
        "    model.compile(loss='binary_crossentropy', optimizer=Adam(learning_rate=0.0005), metrics=['accuracy'])\n",
        "    return model\n",
        "\n",
        "# --- 2C. Buat Instance dari Setiap Model ---\n",
        "print(\"\\n🏗️ Membuat instance model...\")\n",
        "rnn_model_to_train = build_rnn_classifier_balanced(\n",
        "    vocab_size_sentimen, embedding_dim, max_len_sentimen, embedding_matrix\n",
        ")\n",
        "lstm_model_to_train = build_lstm_classifier_improved(\n",
        "    vocab_size_sentimen, embedding_dim, max_len_sentimen, embedding_matrix\n",
        ")\n",
        "\n",
        "# 'None' adalah placeholder untuk ukuran batch (bisa berubah-ubah)\n",
        "rnn_model_to_train.build(input_shape=(None, max_len_sentimen))\n",
        "lstm_model_to_train.build(input_shape=(None, max_len_sentimen))\n",
        "\n",
        "print(\"\\n--- Summary RNN ---\")\n",
        "rnn_model_to_train.summary()\n",
        "print(\"\\n--- Summary LSTM ---\")\n",
        "lstm_model_to_train.summary()\n",
        "\n",
        "# ======================================================================\n",
        "# LANGKAH 3: LATIH MODEL YANG BENAR\n",
        "# ======================================================================\n",
        "\n",
        "# Definisikan callbacks sekali saja untuk digunakan keduanya\n",
        "early_stop = EarlyStopping(monitor='val_loss', patience=3, restore_best_weights=True, verbose=1)\n",
        "reduce_lr = ReduceLROnPlateau(monitor='val_loss', factor=0.5, patience=2, min_lr=1e-5, verbose=1)\n",
        "\n",
        "print(\"\\n🚀 Training RNN Classifier (Balanced)...\")\n",
        "history_rnn_cls = rnn_model_to_train.fit( # <-- Latih variabel yang benar\n",
        "    X_train_s, y_train_s,\n",
        "    epochs=25, batch_size=32, validation_data=(X_test_s, y_test_s),\n",
        "    callbacks=[early_stop, reduce_lr], verbose=1\n",
        ")\n",
        "print(\"✅ RNN Classifier training completed!\")\n",
        "\n",
        "print(\"\\n🚀 Training LSTM Classifier...\")\n",
        "history_lstm_cls = lstm_model_to_train.fit( # <-- Latih variabel yang benar\n",
        "    X_train_s, y_train_s,\n",
        "    epochs=25, batch_size=32, validation_data=(X_test_s, y_test_s),\n",
        "    callbacks=[early_stop, reduce_lr], verbose=1\n",
        ")\n",
        "print(\"✅ LSTM Classifier training completed!\")\n",
        "\n",
        "# (Kode evaluasi dan plotting Anda setelah ini bisa tetap sama,\n",
        "#  pastikan menggunakan variabel rnn_model_to_train dan lstm_model_to_train saat prediksi)"
      ],
      "metadata": {
        "colab": {
          "base_uri": "https://localhost:8080/",
          "height": 885
        },
        "id": "zPj7RvxBtzX0",
        "outputId": "1ea80bc5-974f-49dd-f951-c6d9701dab5f"
      },
      "execution_count": null,
      "outputs": [
        {
          "output_type": "stream",
          "name": "stdout",
          "text": [
            "📖 Memuat pre-trained word vectors dari file cc.id.300.vec...\n",
            "✅ Ditemukan 2000000 word vectors.\n",
            "🛠️  Mempersiapkan embedding matrix...\n",
            "\n",
            "🏗️ Membuat instance model...\n",
            "\n",
            "--- Summary RNN ---\n"
          ]
        },
        {
          "output_type": "stream",
          "name": "stderr",
          "text": [
            "/usr/local/lib/python3.12/dist-packages/keras/src/layers/core/embedding.py:97: UserWarning: Argument `input_length` is deprecated. Just remove it.\n",
            "  warnings.warn(\n"
          ]
        },
        {
          "output_type": "display_data",
          "data": {
            "text/plain": [
              "\u001b[1mModel: \"RNN_Classifier_Balanced\"\u001b[0m\n"
            ],
            "text/html": [
              "<pre style=\"white-space:pre;overflow-x:auto;line-height:normal;font-family:Menlo,'DejaVu Sans Mono',consolas,'Courier New',monospace\"><span style=\"font-weight: bold\">Model: \"RNN_Classifier_Balanced\"</span>\n",
              "</pre>\n"
            ]
          },
          "metadata": {}
        },
        {
          "output_type": "display_data",
          "data": {
            "text/plain": [
              "┏━━━━━━━━━━━━━━━━━━━━━━━━━━━━━━━━━┳━━━━━━━━━━━━━━━━━━━━━━━━┳━━━━━━━━━━━━━━━┓\n",
              "┃\u001b[1m \u001b[0m\u001b[1mLayer (type)                   \u001b[0m\u001b[1m \u001b[0m┃\u001b[1m \u001b[0m\u001b[1mOutput Shape          \u001b[0m\u001b[1m \u001b[0m┃\u001b[1m \u001b[0m\u001b[1m      Param #\u001b[0m\u001b[1m \u001b[0m┃\n",
              "┡━━━━━━━━━━━━━━━━━━━━━━━━━━━━━━━━━╇━━━━━━━━━━━━━━━━━━━━━━━━╇━━━━━━━━━━━━━━━┩\n",
              "│ embedding_4 (\u001b[38;5;33mEmbedding\u001b[0m)         │ (\u001b[38;5;45mNone\u001b[0m, \u001b[38;5;34m21\u001b[0m, \u001b[38;5;34m300\u001b[0m)        │     \u001b[38;5;34m1,034,100\u001b[0m │\n",
              "├─────────────────────────────────┼────────────────────────┼───────────────┤\n",
              "│ bidirectional_4 (\u001b[38;5;33mBidirectional\u001b[0m) │ (\u001b[38;5;45mNone\u001b[0m, \u001b[38;5;34m64\u001b[0m)             │        \u001b[38;5;34m21,312\u001b[0m │\n",
              "├─────────────────────────────────┼────────────────────────┼───────────────┤\n",
              "│ dropout_4 (\u001b[38;5;33mDropout\u001b[0m)             │ (\u001b[38;5;45mNone\u001b[0m, \u001b[38;5;34m64\u001b[0m)             │             \u001b[38;5;34m0\u001b[0m │\n",
              "├─────────────────────────────────┼────────────────────────┼───────────────┤\n",
              "│ dense_8 (\u001b[38;5;33mDense\u001b[0m)                 │ (\u001b[38;5;45mNone\u001b[0m, \u001b[38;5;34m16\u001b[0m)             │         \u001b[38;5;34m1,040\u001b[0m │\n",
              "├─────────────────────────────────┼────────────────────────┼───────────────┤\n",
              "│ dense_9 (\u001b[38;5;33mDense\u001b[0m)                 │ (\u001b[38;5;45mNone\u001b[0m, \u001b[38;5;34m1\u001b[0m)              │            \u001b[38;5;34m17\u001b[0m │\n",
              "└─────────────────────────────────┴────────────────────────┴───────────────┘\n"
            ],
            "text/html": [
              "<pre style=\"white-space:pre;overflow-x:auto;line-height:normal;font-family:Menlo,'DejaVu Sans Mono',consolas,'Courier New',monospace\">┏━━━━━━━━━━━━━━━━━━━━━━━━━━━━━━━━━┳━━━━━━━━━━━━━━━━━━━━━━━━┳━━━━━━━━━━━━━━━┓\n",
              "┃<span style=\"font-weight: bold\"> Layer (type)                    </span>┃<span style=\"font-weight: bold\"> Output Shape           </span>┃<span style=\"font-weight: bold\">       Param # </span>┃\n",
              "┡━━━━━━━━━━━━━━━━━━━━━━━━━━━━━━━━━╇━━━━━━━━━━━━━━━━━━━━━━━━╇━━━━━━━━━━━━━━━┩\n",
              "│ embedding_4 (<span style=\"color: #0087ff; text-decoration-color: #0087ff\">Embedding</span>)         │ (<span style=\"color: #00d7ff; text-decoration-color: #00d7ff\">None</span>, <span style=\"color: #00af00; text-decoration-color: #00af00\">21</span>, <span style=\"color: #00af00; text-decoration-color: #00af00\">300</span>)        │     <span style=\"color: #00af00; text-decoration-color: #00af00\">1,034,100</span> │\n",
              "├─────────────────────────────────┼────────────────────────┼───────────────┤\n",
              "│ bidirectional_4 (<span style=\"color: #0087ff; text-decoration-color: #0087ff\">Bidirectional</span>) │ (<span style=\"color: #00d7ff; text-decoration-color: #00d7ff\">None</span>, <span style=\"color: #00af00; text-decoration-color: #00af00\">64</span>)             │        <span style=\"color: #00af00; text-decoration-color: #00af00\">21,312</span> │\n",
              "├─────────────────────────────────┼────────────────────────┼───────────────┤\n",
              "│ dropout_4 (<span style=\"color: #0087ff; text-decoration-color: #0087ff\">Dropout</span>)             │ (<span style=\"color: #00d7ff; text-decoration-color: #00d7ff\">None</span>, <span style=\"color: #00af00; text-decoration-color: #00af00\">64</span>)             │             <span style=\"color: #00af00; text-decoration-color: #00af00\">0</span> │\n",
              "├─────────────────────────────────┼────────────────────────┼───────────────┤\n",
              "│ dense_8 (<span style=\"color: #0087ff; text-decoration-color: #0087ff\">Dense</span>)                 │ (<span style=\"color: #00d7ff; text-decoration-color: #00d7ff\">None</span>, <span style=\"color: #00af00; text-decoration-color: #00af00\">16</span>)             │         <span style=\"color: #00af00; text-decoration-color: #00af00\">1,040</span> │\n",
              "├─────────────────────────────────┼────────────────────────┼───────────────┤\n",
              "│ dense_9 (<span style=\"color: #0087ff; text-decoration-color: #0087ff\">Dense</span>)                 │ (<span style=\"color: #00d7ff; text-decoration-color: #00d7ff\">None</span>, <span style=\"color: #00af00; text-decoration-color: #00af00\">1</span>)              │            <span style=\"color: #00af00; text-decoration-color: #00af00\">17</span> │\n",
              "└─────────────────────────────────┴────────────────────────┴───────────────┘\n",
              "</pre>\n"
            ]
          },
          "metadata": {}
        },
        {
          "output_type": "display_data",
          "data": {
            "text/plain": [
              "\u001b[1m Total params: \u001b[0m\u001b[38;5;34m1,056,469\u001b[0m (4.03 MB)\n"
            ],
            "text/html": [
              "<pre style=\"white-space:pre;overflow-x:auto;line-height:normal;font-family:Menlo,'DejaVu Sans Mono',consolas,'Courier New',monospace\"><span style=\"font-weight: bold\"> Total params: </span><span style=\"color: #00af00; text-decoration-color: #00af00\">1,056,469</span> (4.03 MB)\n",
              "</pre>\n"
            ]
          },
          "metadata": {}
        },
        {
          "output_type": "display_data",
          "data": {
            "text/plain": [
              "\u001b[1m Trainable params: \u001b[0m\u001b[38;5;34m22,369\u001b[0m (87.38 KB)\n"
            ],
            "text/html": [
              "<pre style=\"white-space:pre;overflow-x:auto;line-height:normal;font-family:Menlo,'DejaVu Sans Mono',consolas,'Courier New',monospace\"><span style=\"font-weight: bold\"> Trainable params: </span><span style=\"color: #00af00; text-decoration-color: #00af00\">22,369</span> (87.38 KB)\n",
              "</pre>\n"
            ]
          },
          "metadata": {}
        },
        {
          "output_type": "display_data",
          "data": {
            "text/plain": [
              "\u001b[1m Non-trainable params: \u001b[0m\u001b[38;5;34m1,034,100\u001b[0m (3.94 MB)\n"
            ],
            "text/html": [
              "<pre style=\"white-space:pre;overflow-x:auto;line-height:normal;font-family:Menlo,'DejaVu Sans Mono',consolas,'Courier New',monospace\"><span style=\"font-weight: bold\"> Non-trainable params: </span><span style=\"color: #00af00; text-decoration-color: #00af00\">1,034,100</span> (3.94 MB)\n",
              "</pre>\n"
            ]
          },
          "metadata": {}
        },
        {
          "output_type": "stream",
          "name": "stdout",
          "text": [
            "\n",
            "--- Summary LSTM ---\n"
          ]
        },
        {
          "output_type": "display_data",
          "data": {
            "text/plain": [
              "\u001b[1mModel: \"LSTM_Classifier_Improved\"\u001b[0m\n"
            ],
            "text/html": [
              "<pre style=\"white-space:pre;overflow-x:auto;line-height:normal;font-family:Menlo,'DejaVu Sans Mono',consolas,'Courier New',monospace\"><span style=\"font-weight: bold\">Model: \"LSTM_Classifier_Improved\"</span>\n",
              "</pre>\n"
            ]
          },
          "metadata": {}
        },
        {
          "output_type": "display_data",
          "data": {
            "text/plain": [
              "┏━━━━━━━━━━━━━━━━━━━━━━━━━━━━━━━━━┳━━━━━━━━━━━━━━━━━━━━━━━━┳━━━━━━━━━━━━━━━┓\n",
              "┃\u001b[1m \u001b[0m\u001b[1mLayer (type)                   \u001b[0m\u001b[1m \u001b[0m┃\u001b[1m \u001b[0m\u001b[1mOutput Shape          \u001b[0m\u001b[1m \u001b[0m┃\u001b[1m \u001b[0m\u001b[1m      Param #\u001b[0m\u001b[1m \u001b[0m┃\n",
              "┡━━━━━━━━━━━━━━━━━━━━━━━━━━━━━━━━━╇━━━━━━━━━━━━━━━━━━━━━━━━╇━━━━━━━━━━━━━━━┩\n",
              "│ embedding_5 (\u001b[38;5;33mEmbedding\u001b[0m)         │ (\u001b[38;5;45mNone\u001b[0m, \u001b[38;5;34m21\u001b[0m, \u001b[38;5;34m300\u001b[0m)        │     \u001b[38;5;34m1,034,100\u001b[0m │\n",
              "├─────────────────────────────────┼────────────────────────┼───────────────┤\n",
              "│ bidirectional_5 (\u001b[38;5;33mBidirectional\u001b[0m) │ (\u001b[38;5;45mNone\u001b[0m, \u001b[38;5;34m128\u001b[0m)            │       \u001b[38;5;34m186,880\u001b[0m │\n",
              "├─────────────────────────────────┼────────────────────────┼───────────────┤\n",
              "│ dropout_5 (\u001b[38;5;33mDropout\u001b[0m)             │ (\u001b[38;5;45mNone\u001b[0m, \u001b[38;5;34m128\u001b[0m)            │             \u001b[38;5;34m0\u001b[0m │\n",
              "├─────────────────────────────────┼────────────────────────┼───────────────┤\n",
              "│ dense_10 (\u001b[38;5;33mDense\u001b[0m)                │ (\u001b[38;5;45mNone\u001b[0m, \u001b[38;5;34m16\u001b[0m)             │         \u001b[38;5;34m2,064\u001b[0m │\n",
              "├─────────────────────────────────┼────────────────────────┼───────────────┤\n",
              "│ dense_11 (\u001b[38;5;33mDense\u001b[0m)                │ (\u001b[38;5;45mNone\u001b[0m, \u001b[38;5;34m1\u001b[0m)              │            \u001b[38;5;34m17\u001b[0m │\n",
              "└─────────────────────────────────┴────────────────────────┴───────────────┘\n"
            ],
            "text/html": [
              "<pre style=\"white-space:pre;overflow-x:auto;line-height:normal;font-family:Menlo,'DejaVu Sans Mono',consolas,'Courier New',monospace\">┏━━━━━━━━━━━━━━━━━━━━━━━━━━━━━━━━━┳━━━━━━━━━━━━━━━━━━━━━━━━┳━━━━━━━━━━━━━━━┓\n",
              "┃<span style=\"font-weight: bold\"> Layer (type)                    </span>┃<span style=\"font-weight: bold\"> Output Shape           </span>┃<span style=\"font-weight: bold\">       Param # </span>┃\n",
              "┡━━━━━━━━━━━━━━━━━━━━━━━━━━━━━━━━━╇━━━━━━━━━━━━━━━━━━━━━━━━╇━━━━━━━━━━━━━━━┩\n",
              "│ embedding_5 (<span style=\"color: #0087ff; text-decoration-color: #0087ff\">Embedding</span>)         │ (<span style=\"color: #00d7ff; text-decoration-color: #00d7ff\">None</span>, <span style=\"color: #00af00; text-decoration-color: #00af00\">21</span>, <span style=\"color: #00af00; text-decoration-color: #00af00\">300</span>)        │     <span style=\"color: #00af00; text-decoration-color: #00af00\">1,034,100</span> │\n",
              "├─────────────────────────────────┼────────────────────────┼───────────────┤\n",
              "│ bidirectional_5 (<span style=\"color: #0087ff; text-decoration-color: #0087ff\">Bidirectional</span>) │ (<span style=\"color: #00d7ff; text-decoration-color: #00d7ff\">None</span>, <span style=\"color: #00af00; text-decoration-color: #00af00\">128</span>)            │       <span style=\"color: #00af00; text-decoration-color: #00af00\">186,880</span> │\n",
              "├─────────────────────────────────┼────────────────────────┼───────────────┤\n",
              "│ dropout_5 (<span style=\"color: #0087ff; text-decoration-color: #0087ff\">Dropout</span>)             │ (<span style=\"color: #00d7ff; text-decoration-color: #00d7ff\">None</span>, <span style=\"color: #00af00; text-decoration-color: #00af00\">128</span>)            │             <span style=\"color: #00af00; text-decoration-color: #00af00\">0</span> │\n",
              "├─────────────────────────────────┼────────────────────────┼───────────────┤\n",
              "│ dense_10 (<span style=\"color: #0087ff; text-decoration-color: #0087ff\">Dense</span>)                │ (<span style=\"color: #00d7ff; text-decoration-color: #00d7ff\">None</span>, <span style=\"color: #00af00; text-decoration-color: #00af00\">16</span>)             │         <span style=\"color: #00af00; text-decoration-color: #00af00\">2,064</span> │\n",
              "├─────────────────────────────────┼────────────────────────┼───────────────┤\n",
              "│ dense_11 (<span style=\"color: #0087ff; text-decoration-color: #0087ff\">Dense</span>)                │ (<span style=\"color: #00d7ff; text-decoration-color: #00d7ff\">None</span>, <span style=\"color: #00af00; text-decoration-color: #00af00\">1</span>)              │            <span style=\"color: #00af00; text-decoration-color: #00af00\">17</span> │\n",
              "└─────────────────────────────────┴────────────────────────┴───────────────┘\n",
              "</pre>\n"
            ]
          },
          "metadata": {}
        },
        {
          "output_type": "display_data",
          "data": {
            "text/plain": [
              "\u001b[1m Total params: \u001b[0m\u001b[38;5;34m1,223,061\u001b[0m (4.67 MB)\n"
            ],
            "text/html": [
              "<pre style=\"white-space:pre;overflow-x:auto;line-height:normal;font-family:Menlo,'DejaVu Sans Mono',consolas,'Courier New',monospace\"><span style=\"font-weight: bold\"> Total params: </span><span style=\"color: #00af00; text-decoration-color: #00af00\">1,223,061</span> (4.67 MB)\n",
              "</pre>\n"
            ]
          },
          "metadata": {}
        },
        {
          "output_type": "display_data",
          "data": {
            "text/plain": [
              "\u001b[1m Trainable params: \u001b[0m\u001b[38;5;34m188,961\u001b[0m (738.13 KB)\n"
            ],
            "text/html": [
              "<pre style=\"white-space:pre;overflow-x:auto;line-height:normal;font-family:Menlo,'DejaVu Sans Mono',consolas,'Courier New',monospace\"><span style=\"font-weight: bold\"> Trainable params: </span><span style=\"color: #00af00; text-decoration-color: #00af00\">188,961</span> (738.13 KB)\n",
              "</pre>\n"
            ]
          },
          "metadata": {}
        },
        {
          "output_type": "display_data",
          "data": {
            "text/plain": [
              "\u001b[1m Non-trainable params: \u001b[0m\u001b[38;5;34m1,034,100\u001b[0m (3.94 MB)\n"
            ],
            "text/html": [
              "<pre style=\"white-space:pre;overflow-x:auto;line-height:normal;font-family:Menlo,'DejaVu Sans Mono',consolas,'Courier New',monospace\"><span style=\"font-weight: bold\"> Non-trainable params: </span><span style=\"color: #00af00; text-decoration-color: #00af00\">1,034,100</span> (3.94 MB)\n",
              "</pre>\n"
            ]
          },
          "metadata": {}
        },
        {
          "output_type": "stream",
          "name": "stdout",
          "text": [
            "\n",
            "🚀 Training RNN Classifier (Balanced)...\n",
            "Epoch 1/25\n",
            "\u001b[1m30/30\u001b[0m \u001b[32m━━━━━━━━━━━━━━━━━━━━\u001b[0m\u001b[37m\u001b[0m \u001b[1m7s\u001b[0m 63ms/step - accuracy: 0.5062 - loss: 1.8576 - val_accuracy: 0.5292 - val_loss: 1.7315 - learning_rate: 5.0000e-04\n",
            "Epoch 2/25\n",
            "\u001b[1m30/30\u001b[0m \u001b[32m━━━━━━━━━━━━━━━━━━━━\u001b[0m\u001b[37m\u001b[0m \u001b[1m1s\u001b[0m 21ms/step - accuracy: 0.5349 - loss: 1.7081 - val_accuracy: 0.5208 - val_loss: 1.6099 - learning_rate: 5.0000e-04\n",
            "Epoch 3/25\n",
            "\u001b[1m25/30\u001b[0m \u001b[32m━━━━━━━━━━━━━━━━\u001b[0m\u001b[37m━━━━\u001b[0m \u001b[1m0s\u001b[0m 11ms/step - accuracy: 0.5480 - loss: 1.5898"
          ]
        }
      ]
    },
    {
      "cell_type": "markdown",
      "source": [
        "### **Evaluate Classifiers**"
      ],
      "metadata": {
        "id": "LaFwsvS_Q54N"
      }
    },
    {
      "cell_type": "code",
      "source": [
        "print(\"\\n\" + \"=\"*70)\n",
        "print(\"EVALUASI KLASIFIKASI SENTIMEN (BINARY)\")\n",
        "print(\"=\"*70)\n",
        "\n",
        "# Predictions - MENGGUNAKAN VARIABEL YANG SUDAH BENAR\n",
        "y_pred_rnn = (rnn_model_to_train.predict(X_test_s, verbose=0) > 0.5).astype(int)\n",
        "y_pred_lstm = (lstm_model_to_train.predict(X_test_s, verbose=0) > 0.5).astype(int)\n",
        "\n",
        "\n",
        "# RNN Results\n",
        "print(\"\\n📊 RNN Classifier Results:\")\n",
        "print(f\"Accuracy: {accuracy_score(y_test_s, y_pred_rnn):.4f}\")\n",
        "print(\"\\nClassification Report:\")\n",
        "print(classification_report(y_test_s, y_pred_rnn, target_names=list(label_to_id.keys())))\n",
        "\n",
        "# LSTM Results\n",
        "print(\"\\n📊 LSTM Classifier Results:\")\n",
        "print(f\"Accuracy: {accuracy_score(y_test_s, y_pred_lstm):.4f}\")\n",
        "print(\"\\nClassification Report:\")\n",
        "print(classification_report(y_test_s, y_pred_lstm, target_names=list(label_to_id.keys())))"
      ],
      "metadata": {
        "id": "hnBa-ZGNOYrv",
        "colab": {
          "base_uri": "https://localhost:8080/"
        },
        "outputId": "c9cf6efc-597e-4bf9-a5ec-347edd5d0961"
      },
      "execution_count": null,
      "outputs": [
        {
          "output_type": "stream",
          "name": "stdout",
          "text": [
            "\n",
            "======================================================================\n",
            "EVALUASI KLASIFIKASI SENTIMEN (BINARY)\n",
            "======================================================================\n",
            "\n",
            "📊 RNN Classifier Results:\n",
            "Accuracy: 0.7708\n",
            "\n",
            "Classification Report:\n",
            "              precision    recall  f1-score   support\n",
            "\n",
            "    negative       0.79      0.75      0.77       122\n",
            "    positive       0.75      0.80      0.77       118\n",
            "\n",
            "    accuracy                           0.77       240\n",
            "   macro avg       0.77      0.77      0.77       240\n",
            "weighted avg       0.77      0.77      0.77       240\n",
            "\n",
            "\n",
            "📊 LSTM Classifier Results:\n",
            "Accuracy: 0.7333\n",
            "\n",
            "Classification Report:\n",
            "              precision    recall  f1-score   support\n",
            "\n",
            "    negative       0.80      0.63      0.71       122\n",
            "    positive       0.69      0.84      0.76       118\n",
            "\n",
            "    accuracy                           0.73       240\n",
            "   macro avg       0.74      0.74      0.73       240\n",
            "weighted avg       0.75      0.73      0.73       240\n",
            "\n"
          ]
        }
      ]
    },
    {
      "cell_type": "code",
      "source": [
        "\n",
        "\n",
        "# ================================\n",
        "# 📊 RINGKASAN HASIL MODEL\n",
        "# ================================\n",
        "\n",
        "print(\"\\n📘 Ringkasan Simple RNN Classifier\")\n",
        "acc_rnn = history_rnn_cls.history['accuracy']\n",
        "val_acc_rnn = history_rnn_cls.history['val_accuracy']\n",
        "loss_rnn = history_rnn_cls.history['loss']\n",
        "val_loss_rnn = history_rnn_cls.history['val_loss']\n",
        "\n",
        "print(f\"  🔹 Akurasi training tertinggi: {max(acc_rnn):.4f}\")\n",
        "print(f\"  🔹 Akurasi validasi tertinggi: {max(val_acc_rnn):.4f}\")\n",
        "print(f\"  🔹 Loss training terendah: {min(loss_rnn):.4f}\")\n",
        "print(f\"  🔹 Loss validasi terendah: {min(val_loss_rnn):.4f}\")\n",
        "print(\"-\" * 50)\n",
        "\n",
        "print(\"\\n📘 Ringkasan LSTM Classifier\")\n",
        "acc_lstm = history_lstm_cls.history['accuracy']\n",
        "val_acc_lstm = history_lstm_cls.history['val_accuracy']\n",
        "loss_lstm = history_lstm_cls.history['loss']\n",
        "val_loss_lstm = history_lstm_cls.history['val_loss']\n",
        "\n",
        "print(f\"  🔹 Akurasi training tertinggi: {max(acc_lstm):.4f}\")\n",
        "print(f\"  🔹 Akurasi validasi tertinggi: {max(val_acc_lstm):.4f}\")\n",
        "print(f\"  🔹 Loss training terendah: {min(loss_lstm):.4f}\")\n",
        "print(f\"  🔹 Loss validasi terendah: {min(val_loss_lstm):.4f}\")\n",
        "print(\"-\" * 50)\n",
        "\n",
        "# ================================\n",
        "# 🏆 MODEL TERBAIK\n",
        "# ================================\n",
        "\n",
        "if max(val_acc_rnn) > max(val_acc_lstm):\n",
        "    print(f\"🏆 Model terbaik: Simple RNN (Val Accuracy = {max(val_acc_rnn):.4f})\")\n",
        "else:\n",
        "    print(f\"🏆 Model terbaik: LSTM (Val Accuracy = {max(val_acc_lstm):.4f})\")\n"
      ],
      "metadata": {
        "id": "B59TclWNrfIm",
        "colab": {
          "base_uri": "https://localhost:8080/"
        },
        "outputId": "58995371-0da7-4c2a-cb0e-4157d20819b1"
      },
      "execution_count": null,
      "outputs": [
        {
          "output_type": "stream",
          "name": "stdout",
          "text": [
            "\n",
            "📘 Ringkasan Simple RNN Classifier\n",
            "  🔹 Akurasi training tertinggi: 0.7896\n",
            "  🔹 Akurasi validasi tertinggi: 0.7708\n",
            "  🔹 Loss training terendah: 0.6058\n",
            "  🔹 Loss validasi terendah: 0.6554\n",
            "--------------------------------------------------\n",
            "\n",
            "📘 Ringkasan LSTM Classifier\n",
            "  🔹 Akurasi training tertinggi: 0.8740\n",
            "  🔹 Akurasi validasi tertinggi: 0.7333\n",
            "  🔹 Loss training terendah: 0.3160\n",
            "  🔹 Loss validasi terendah: 0.5548\n",
            "--------------------------------------------------\n",
            "🏆 Model terbaik: Simple RNN (Val Accuracy = 0.7708)\n"
          ]
        }
      ]
    },
    {
      "cell_type": "code",
      "source": [
        "fig, axes = plt.subplots(1, 2, figsize=(14, 5))\n",
        "\n",
        "# Accuracy\n",
        "axes[0].plot(history_rnn_cls.history['accuracy'], label='RNN Train', linewidth=2)\n",
        "axes[0].plot(history_rnn_cls.history['val_accuracy'], label='RNN Val', linewidth=2)\n",
        "axes[0].plot(history_lstm_cls.history['accuracy'], label='LSTM Train', linewidth=2)\n",
        "axes[0].plot(history_lstm_cls.history['val_accuracy'], label='LSTM Val', linewidth=2)\n",
        "axes[0].set_title('Classification Accuracy Comparison', fontsize=14, fontweight='bold')\n",
        "axes[0].set_xlabel('Epoch')\n",
        "axes[0].set_ylabel('Accuracy')\n",
        "axes[0].legend()\n",
        "axes[0].grid(True, alpha=0.3)\n",
        "\n",
        "# Loss\n",
        "axes[1].plot(history_rnn_cls.history['loss'], label='RNN Train', linewidth=2)\n",
        "axes[1].plot(history_rnn_cls.history['val_loss'], label='RNN Val', linewidth=2)\n",
        "axes[1].plot(history_lstm_cls.history['loss'], label='LSTM Train', linewidth=2)\n",
        "axes[1].plot(history_lstm_cls.history['val_loss'], label='LSTM Val', linewidth=2)\n",
        "axes[1].set_title('Classification Loss Comparison', fontsize=14, fontweight='bold')\n",
        "axes[1].set_xlabel('Epoch')\n",
        "axes[1].set_ylabel('Loss')\n",
        "axes[1].legend()\n",
        "axes[1].grid(True, alpha=0.3)\n",
        "\n",
        "plt.tight_layout()\n",
        "plt.show()"
      ],
      "metadata": {
        "id": "2SHk5_urUOO5",
        "colab": {
          "base_uri": "https://localhost:8080/",
          "height": 507
        },
        "outputId": "487b9eb3-d283-400a-cabd-1aecb857f1bf"
      },
      "execution_count": null,
      "outputs": [
        {
          "output_type": "display_data",
          "data": {
            "text/plain": [
              "<Figure size 1400x500 with 2 Axes>"
            ],
            "image/png": "[encoded data removed]"
          },
          "metadata": {}
        }
      ]
    }
  ]
}